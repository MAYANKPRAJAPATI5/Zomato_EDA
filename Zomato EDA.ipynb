{
 "cells": [
  {
   "cell_type": "markdown",
   "id": "72048ed0",
   "metadata": {},
   "source": [
    "# ZOMATO EDA     \n",
    "#### By Mayank Prajapati"
   ]
  },
  {
   "cell_type": "markdown",
   "id": "7b7812a7",
   "metadata": {},
   "source": [
    "### Introduction\n",
    "Exploratory Data Analysis (EDA) is a preliminary step of Machine Learning and is used extensively in this field. Although it is not necessary to perform EDA to build models, but it is definitely recommended as it helps to know the data better. If performed correctly, it gives us insights which are not easy to witness directly.\n",
    "\n",
    "In this notebook, I have performed a detailed analysis on the Indian Restaurants Dataset from Zomato. Following are the things that you will learn from this project:\n",
    "\n",
    "1. Basic composition of data\n",
    "2. Removing duplicates\n",
    "3. Dealing with missing values\n",
    "4. Understanding features\n",
    "5. Plotting horizontal bar charts (multicolor)\n",
    "6. Using groupby, apply, and unique functions\n",
    "7. Scatter plot\n",
    "8. Word Cloud\n",
    "9. Box plot\n",
    "12. Drawing insights and conclusions from data"
   ]
  },
  {
   "cell_type": "markdown",
   "id": "d874f009",
   "metadata": {},
   "source": [
    "### Importing necessary libraries"
   ]
  },
  {
   "cell_type": "code",
   "execution_count": 1,
   "id": "6e173dcc",
   "metadata": {},
   "outputs": [],
   "source": [
    "import numpy as np\n",
    "import pandas as pd\n",
    "import matplotlib.pyplot as plt\n",
    "import matplotlib.cm as cm\n",
    "import seaborn as sns\n",
    "import random\n",
    "from wordcloud import WordCloud"
   ]
  },
  {
   "cell_type": "markdown",
   "id": "3e60afa7",
   "metadata": {},
   "source": [
    "### Importing Dataset"
   ]
  },
  {
   "cell_type": "code",
   "execution_count": 2,
   "id": "308c592e",
   "metadata": {},
   "outputs": [],
   "source": [
    "df = pd.read_csv(r\"C:\\Users\\dell\\OneDrive\\Desktop\\zomato_data.csv\")\n"
   ]
  },
  {
   "cell_type": "markdown",
   "id": "53047443",
   "metadata": {},
   "source": [
    "### Exploring Data"
   ]
  },
  {
   "cell_type": "code",
   "execution_count": 3,
   "id": "25ab5da2",
   "metadata": {},
   "outputs": [
    {
     "data": {
      "text/html": [
       "<div>\n",
       "<style scoped>\n",
       "    .dataframe tbody tr th:only-of-type {\n",
       "        vertical-align: middle;\n",
       "    }\n",
       "\n",
       "    .dataframe tbody tr th {\n",
       "        vertical-align: top;\n",
       "    }\n",
       "\n",
       "    .dataframe thead th {\n",
       "        text-align: right;\n",
       "    }\n",
       "</style>\n",
       "<table border=\"1\" class=\"dataframe\">\n",
       "  <thead>\n",
       "    <tr style=\"text-align: right;\">\n",
       "      <th></th>\n",
       "      <th>res_id</th>\n",
       "      <th>name</th>\n",
       "      <th>establishment</th>\n",
       "      <th>url</th>\n",
       "      <th>address</th>\n",
       "      <th>city</th>\n",
       "      <th>city_id</th>\n",
       "      <th>locality</th>\n",
       "      <th>latitude</th>\n",
       "      <th>longitude</th>\n",
       "      <th>...</th>\n",
       "      <th>price_range</th>\n",
       "      <th>currency</th>\n",
       "      <th>highlights</th>\n",
       "      <th>aggregate_rating</th>\n",
       "      <th>rating_text</th>\n",
       "      <th>votes</th>\n",
       "      <th>photo_count</th>\n",
       "      <th>opentable_support</th>\n",
       "      <th>delivery</th>\n",
       "      <th>takeaway</th>\n",
       "    </tr>\n",
       "  </thead>\n",
       "  <tbody>\n",
       "    <tr>\n",
       "      <th>0</th>\n",
       "      <td>3400299</td>\n",
       "      <td>Bikanervala</td>\n",
       "      <td>['Quick Bites']</td>\n",
       "      <td>https://www.zomato.com/agra/bikanervala-khanda...</td>\n",
       "      <td>Kalyani Point, Near Tulsi Cinema, Bypass Road,...</td>\n",
       "      <td>Agra</td>\n",
       "      <td>34</td>\n",
       "      <td>Khandari</td>\n",
       "      <td>27.211450</td>\n",
       "      <td>78.002381</td>\n",
       "      <td>...</td>\n",
       "      <td>2</td>\n",
       "      <td>Rs.</td>\n",
       "      <td>['Lunch', 'Takeaway Available', 'Credit Card',...</td>\n",
       "      <td>4.4</td>\n",
       "      <td>Very Good</td>\n",
       "      <td>814</td>\n",
       "      <td>154</td>\n",
       "      <td>0.0</td>\n",
       "      <td>-1</td>\n",
       "      <td>-1</td>\n",
       "    </tr>\n",
       "    <tr>\n",
       "      <th>1</th>\n",
       "      <td>3400005</td>\n",
       "      <td>Mama Chicken Mama Franky House</td>\n",
       "      <td>['Quick Bites']</td>\n",
       "      <td>https://www.zomato.com/agra/mama-chicken-mama-...</td>\n",
       "      <td>Main Market, Sadar Bazaar, Agra Cantt, Agra</td>\n",
       "      <td>Agra</td>\n",
       "      <td>34</td>\n",
       "      <td>Agra Cantt</td>\n",
       "      <td>27.160569</td>\n",
       "      <td>78.011583</td>\n",
       "      <td>...</td>\n",
       "      <td>2</td>\n",
       "      <td>Rs.</td>\n",
       "      <td>['Delivery', 'No Alcohol Available', 'Dinner',...</td>\n",
       "      <td>4.4</td>\n",
       "      <td>Very Good</td>\n",
       "      <td>1203</td>\n",
       "      <td>161</td>\n",
       "      <td>0.0</td>\n",
       "      <td>-1</td>\n",
       "      <td>-1</td>\n",
       "    </tr>\n",
       "    <tr>\n",
       "      <th>2</th>\n",
       "      <td>3401013</td>\n",
       "      <td>Bhagat Halwai</td>\n",
       "      <td>['Quick Bites']</td>\n",
       "      <td>https://www.zomato.com/agra/bhagat-halwai-2-sh...</td>\n",
       "      <td>62/1, Near Easy Day, West Shivaji Nagar, Goalp...</td>\n",
       "      <td>Agra</td>\n",
       "      <td>34</td>\n",
       "      <td>Shahganj</td>\n",
       "      <td>27.182938</td>\n",
       "      <td>77.979684</td>\n",
       "      <td>...</td>\n",
       "      <td>1</td>\n",
       "      <td>Rs.</td>\n",
       "      <td>['No Alcohol Available', 'Dinner', 'Takeaway A...</td>\n",
       "      <td>4.2</td>\n",
       "      <td>Very Good</td>\n",
       "      <td>801</td>\n",
       "      <td>107</td>\n",
       "      <td>0.0</td>\n",
       "      <td>1</td>\n",
       "      <td>-1</td>\n",
       "    </tr>\n",
       "    <tr>\n",
       "      <th>3</th>\n",
       "      <td>3400290</td>\n",
       "      <td>Bhagat Halwai</td>\n",
       "      <td>['Quick Bites']</td>\n",
       "      <td>https://www.zomato.com/agra/bhagat-halwai-civi...</td>\n",
       "      <td>Near Anjana Cinema, Nehru Nagar, Civil Lines, ...</td>\n",
       "      <td>Agra</td>\n",
       "      <td>34</td>\n",
       "      <td>Civil Lines</td>\n",
       "      <td>27.205668</td>\n",
       "      <td>78.004799</td>\n",
       "      <td>...</td>\n",
       "      <td>1</td>\n",
       "      <td>Rs.</td>\n",
       "      <td>['Takeaway Available', 'Credit Card', 'Lunch',...</td>\n",
       "      <td>4.3</td>\n",
       "      <td>Very Good</td>\n",
       "      <td>693</td>\n",
       "      <td>157</td>\n",
       "      <td>0.0</td>\n",
       "      <td>1</td>\n",
       "      <td>-1</td>\n",
       "    </tr>\n",
       "    <tr>\n",
       "      <th>4</th>\n",
       "      <td>3401744</td>\n",
       "      <td>The Salt Cafe Kitchen &amp; Bar</td>\n",
       "      <td>['Casual Dining']</td>\n",
       "      <td>https://www.zomato.com/agra/the-salt-cafe-kitc...</td>\n",
       "      <td>1C,3rd Floor, Fatehabad Road, Tajganj, Agra</td>\n",
       "      <td>Agra</td>\n",
       "      <td>34</td>\n",
       "      <td>Tajganj</td>\n",
       "      <td>27.157709</td>\n",
       "      <td>78.052421</td>\n",
       "      <td>...</td>\n",
       "      <td>3</td>\n",
       "      <td>Rs.</td>\n",
       "      <td>['Lunch', 'Serves Alcohol', 'Cash', 'Credit Ca...</td>\n",
       "      <td>4.9</td>\n",
       "      <td>Excellent</td>\n",
       "      <td>470</td>\n",
       "      <td>291</td>\n",
       "      <td>0.0</td>\n",
       "      <td>1</td>\n",
       "      <td>-1</td>\n",
       "    </tr>\n",
       "    <tr>\n",
       "      <th>5</th>\n",
       "      <td>3400275</td>\n",
       "      <td>Domino's Pizza</td>\n",
       "      <td>['Quick Bites']</td>\n",
       "      <td>https://www.zomato.com/agra/dominos-pizza-civi...</td>\n",
       "      <td>114/23 G, Deep Shikha Complex, Sanjay Place, C...</td>\n",
       "      <td>Agra</td>\n",
       "      <td>34</td>\n",
       "      <td>Civil Lines</td>\n",
       "      <td>27.201516</td>\n",
       "      <td>78.007556</td>\n",
       "      <td>...</td>\n",
       "      <td>2</td>\n",
       "      <td>Rs.</td>\n",
       "      <td>['Credit Card', 'Lunch', 'Delivery', 'Dinner',...</td>\n",
       "      <td>4.0</td>\n",
       "      <td>Very Good</td>\n",
       "      <td>707</td>\n",
       "      <td>62</td>\n",
       "      <td>0.0</td>\n",
       "      <td>-1</td>\n",
       "      <td>-1</td>\n",
       "    </tr>\n",
       "    <tr>\n",
       "      <th>6</th>\n",
       "      <td>3400296</td>\n",
       "      <td>Honeydew Restaurant</td>\n",
       "      <td>['Quick Bites']</td>\n",
       "      <td>https://www.zomato.com/agra/honeydew-restauran...</td>\n",
       "      <td>Opposite Soami Bagh Temple, Dayal Bagh, Agra</td>\n",
       "      <td>Agra</td>\n",
       "      <td>34</td>\n",
       "      <td>Dayal Bagh</td>\n",
       "      <td>27.222175</td>\n",
       "      <td>78.010174</td>\n",
       "      <td>...</td>\n",
       "      <td>2</td>\n",
       "      <td>Rs.</td>\n",
       "      <td>['Dinner', 'Delivery', 'Lunch', 'Cash', 'Takea...</td>\n",
       "      <td>4.2</td>\n",
       "      <td>Very Good</td>\n",
       "      <td>647</td>\n",
       "      <td>46</td>\n",
       "      <td>0.0</td>\n",
       "      <td>1</td>\n",
       "      <td>-1</td>\n",
       "    </tr>\n",
       "    <tr>\n",
       "      <th>7</th>\n",
       "      <td>3400368</td>\n",
       "      <td>Domino's Pizza</td>\n",
       "      <td>['Quick Bites']</td>\n",
       "      <td>https://www.zomato.com/agra/dominos-pizza-sika...</td>\n",
       "      <td>Plot C-1/6, Sector 13, Sikandra, Agra</td>\n",
       "      <td>Agra</td>\n",
       "      <td>34</td>\n",
       "      <td>Sikandra</td>\n",
       "      <td>27.203930</td>\n",
       "      <td>77.954260</td>\n",
       "      <td>...</td>\n",
       "      <td>2</td>\n",
       "      <td>Rs.</td>\n",
       "      <td>['Lunch', 'Delivery', 'Credit Card', 'No Alcoh...</td>\n",
       "      <td>3.8</td>\n",
       "      <td>Good</td>\n",
       "      <td>617</td>\n",
       "      <td>18</td>\n",
       "      <td>0.0</td>\n",
       "      <td>-1</td>\n",
       "      <td>-1</td>\n",
       "    </tr>\n",
       "    <tr>\n",
       "      <th>8</th>\n",
       "      <td>3401284</td>\n",
       "      <td>Cake House</td>\n",
       "      <td>['Bakery']</td>\n",
       "      <td>https://www.zomato.com/agra/cake-house-2-civil...</td>\n",
       "      <td>23/301, Wazirpura Rd, Judge Compound Chowraha,...</td>\n",
       "      <td>Agra</td>\n",
       "      <td>34</td>\n",
       "      <td>Civil Lines</td>\n",
       "      <td>27.204148</td>\n",
       "      <td>78.009025</td>\n",
       "      <td>...</td>\n",
       "      <td>2</td>\n",
       "      <td>Rs.</td>\n",
       "      <td>['Takeaway Available', 'Cash', 'Indoor Seating...</td>\n",
       "      <td>3.4</td>\n",
       "      <td>Average</td>\n",
       "      <td>322</td>\n",
       "      <td>14</td>\n",
       "      <td>0.0</td>\n",
       "      <td>1</td>\n",
       "      <td>-1</td>\n",
       "    </tr>\n",
       "    <tr>\n",
       "      <th>9</th>\n",
       "      <td>3400838</td>\n",
       "      <td>Sugar N Thyme</td>\n",
       "      <td>['Café']</td>\n",
       "      <td>https://www.zomato.com/agra/sugar-n-thyme-tajg...</td>\n",
       "      <td>1374 K/1375 K, Ground floor, Dinesh Nagar, Fat...</td>\n",
       "      <td>Agra</td>\n",
       "      <td>34</td>\n",
       "      <td>Tajganj</td>\n",
       "      <td>27.158243</td>\n",
       "      <td>78.045591</td>\n",
       "      <td>...</td>\n",
       "      <td>3</td>\n",
       "      <td>Rs.</td>\n",
       "      <td>['No Alcohol Available', 'Dinner', 'Delivery',...</td>\n",
       "      <td>4.4</td>\n",
       "      <td>Very Good</td>\n",
       "      <td>289</td>\n",
       "      <td>324</td>\n",
       "      <td>0.0</td>\n",
       "      <td>1</td>\n",
       "      <td>-1</td>\n",
       "    </tr>\n",
       "  </tbody>\n",
       "</table>\n",
       "<p>10 rows × 26 columns</p>\n",
       "</div>"
      ],
      "text/plain": [
       "    res_id                            name      establishment  \\\n",
       "0  3400299                     Bikanervala    ['Quick Bites']   \n",
       "1  3400005  Mama Chicken Mama Franky House    ['Quick Bites']   \n",
       "2  3401013                   Bhagat Halwai    ['Quick Bites']   \n",
       "3  3400290                   Bhagat Halwai    ['Quick Bites']   \n",
       "4  3401744     The Salt Cafe Kitchen & Bar  ['Casual Dining']   \n",
       "5  3400275                  Domino's Pizza    ['Quick Bites']   \n",
       "6  3400296             Honeydew Restaurant    ['Quick Bites']   \n",
       "7  3400368                  Domino's Pizza    ['Quick Bites']   \n",
       "8  3401284                      Cake House         ['Bakery']   \n",
       "9  3400838                   Sugar N Thyme           ['Café']   \n",
       "\n",
       "                                                 url  \\\n",
       "0  https://www.zomato.com/agra/bikanervala-khanda...   \n",
       "1  https://www.zomato.com/agra/mama-chicken-mama-...   \n",
       "2  https://www.zomato.com/agra/bhagat-halwai-2-sh...   \n",
       "3  https://www.zomato.com/agra/bhagat-halwai-civi...   \n",
       "4  https://www.zomato.com/agra/the-salt-cafe-kitc...   \n",
       "5  https://www.zomato.com/agra/dominos-pizza-civi...   \n",
       "6  https://www.zomato.com/agra/honeydew-restauran...   \n",
       "7  https://www.zomato.com/agra/dominos-pizza-sika...   \n",
       "8  https://www.zomato.com/agra/cake-house-2-civil...   \n",
       "9  https://www.zomato.com/agra/sugar-n-thyme-tajg...   \n",
       "\n",
       "                                             address  city  city_id  \\\n",
       "0  Kalyani Point, Near Tulsi Cinema, Bypass Road,...  Agra       34   \n",
       "1        Main Market, Sadar Bazaar, Agra Cantt, Agra  Agra       34   \n",
       "2  62/1, Near Easy Day, West Shivaji Nagar, Goalp...  Agra       34   \n",
       "3  Near Anjana Cinema, Nehru Nagar, Civil Lines, ...  Agra       34   \n",
       "4        1C,3rd Floor, Fatehabad Road, Tajganj, Agra  Agra       34   \n",
       "5  114/23 G, Deep Shikha Complex, Sanjay Place, C...  Agra       34   \n",
       "6       Opposite Soami Bagh Temple, Dayal Bagh, Agra  Agra       34   \n",
       "7              Plot C-1/6, Sector 13, Sikandra, Agra  Agra       34   \n",
       "8  23/301, Wazirpura Rd, Judge Compound Chowraha,...  Agra       34   \n",
       "9  1374 K/1375 K, Ground floor, Dinesh Nagar, Fat...  Agra       34   \n",
       "\n",
       "      locality   latitude  longitude  ... price_range  currency  \\\n",
       "0     Khandari  27.211450  78.002381  ...           2       Rs.   \n",
       "1   Agra Cantt  27.160569  78.011583  ...           2       Rs.   \n",
       "2     Shahganj  27.182938  77.979684  ...           1       Rs.   \n",
       "3  Civil Lines  27.205668  78.004799  ...           1       Rs.   \n",
       "4      Tajganj  27.157709  78.052421  ...           3       Rs.   \n",
       "5  Civil Lines  27.201516  78.007556  ...           2       Rs.   \n",
       "6   Dayal Bagh  27.222175  78.010174  ...           2       Rs.   \n",
       "7     Sikandra  27.203930  77.954260  ...           2       Rs.   \n",
       "8  Civil Lines  27.204148  78.009025  ...           2       Rs.   \n",
       "9      Tajganj  27.158243  78.045591  ...           3       Rs.   \n",
       "\n",
       "                                          highlights aggregate_rating  \\\n",
       "0  ['Lunch', 'Takeaway Available', 'Credit Card',...              4.4   \n",
       "1  ['Delivery', 'No Alcohol Available', 'Dinner',...              4.4   \n",
       "2  ['No Alcohol Available', 'Dinner', 'Takeaway A...              4.2   \n",
       "3  ['Takeaway Available', 'Credit Card', 'Lunch',...              4.3   \n",
       "4  ['Lunch', 'Serves Alcohol', 'Cash', 'Credit Ca...              4.9   \n",
       "5  ['Credit Card', 'Lunch', 'Delivery', 'Dinner',...              4.0   \n",
       "6  ['Dinner', 'Delivery', 'Lunch', 'Cash', 'Takea...              4.2   \n",
       "7  ['Lunch', 'Delivery', 'Credit Card', 'No Alcoh...              3.8   \n",
       "8  ['Takeaway Available', 'Cash', 'Indoor Seating...              3.4   \n",
       "9  ['No Alcohol Available', 'Dinner', 'Delivery',...              4.4   \n",
       "\n",
       "  rating_text  votes  photo_count opentable_support delivery  takeaway  \n",
       "0   Very Good    814          154               0.0       -1        -1  \n",
       "1   Very Good   1203          161               0.0       -1        -1  \n",
       "2   Very Good    801          107               0.0        1        -1  \n",
       "3   Very Good    693          157               0.0        1        -1  \n",
       "4   Excellent    470          291               0.0        1        -1  \n",
       "5   Very Good    707           62               0.0       -1        -1  \n",
       "6   Very Good    647           46               0.0        1        -1  \n",
       "7        Good    617           18               0.0       -1        -1  \n",
       "8     Average    322           14               0.0        1        -1  \n",
       "9   Very Good    289          324               0.0        1        -1  \n",
       "\n",
       "[10 rows x 26 columns]"
      ]
     },
     "execution_count": 3,
     "metadata": {},
     "output_type": "execute_result"
    }
   ],
   "source": [
    "df.head(10)"
   ]
  },
  {
   "cell_type": "code",
   "execution_count": 4,
   "id": "6095cb89",
   "metadata": {
    "scrolled": true
   },
   "outputs": [
    {
     "data": {
      "text/html": [
       "<div>\n",
       "<style scoped>\n",
       "    .dataframe tbody tr th:only-of-type {\n",
       "        vertical-align: middle;\n",
       "    }\n",
       "\n",
       "    .dataframe tbody tr th {\n",
       "        vertical-align: top;\n",
       "    }\n",
       "\n",
       "    .dataframe thead th {\n",
       "        text-align: right;\n",
       "    }\n",
       "</style>\n",
       "<table border=\"1\" class=\"dataframe\">\n",
       "  <thead>\n",
       "    <tr style=\"text-align: right;\">\n",
       "      <th></th>\n",
       "      <th>res_id</th>\n",
       "      <th>name</th>\n",
       "      <th>establishment</th>\n",
       "      <th>url</th>\n",
       "      <th>address</th>\n",
       "      <th>city</th>\n",
       "      <th>city_id</th>\n",
       "      <th>locality</th>\n",
       "      <th>latitude</th>\n",
       "      <th>longitude</th>\n",
       "      <th>...</th>\n",
       "      <th>price_range</th>\n",
       "      <th>currency</th>\n",
       "      <th>highlights</th>\n",
       "      <th>aggregate_rating</th>\n",
       "      <th>rating_text</th>\n",
       "      <th>votes</th>\n",
       "      <th>photo_count</th>\n",
       "      <th>opentable_support</th>\n",
       "      <th>delivery</th>\n",
       "      <th>takeaway</th>\n",
       "    </tr>\n",
       "  </thead>\n",
       "  <tbody>\n",
       "    <tr>\n",
       "      <th>211939</th>\n",
       "      <td>3202251</td>\n",
       "      <td>Kali Mirch Cafe And Restaurant</td>\n",
       "      <td>['Casual Dining']</td>\n",
       "      <td>https://www.zomato.com/vadodara/kali-mirch-caf...</td>\n",
       "      <td>Manu Smriti Complex, Near Navrachna School, GI...</td>\n",
       "      <td>Vadodara</td>\n",
       "      <td>32</td>\n",
       "      <td>Fatehgunj</td>\n",
       "      <td>22.336931</td>\n",
       "      <td>73.192356</td>\n",
       "      <td>...</td>\n",
       "      <td>2</td>\n",
       "      <td>Rs.</td>\n",
       "      <td>['Dinner', 'Cash', 'Lunch', 'Delivery', 'Indoo...</td>\n",
       "      <td>4.1</td>\n",
       "      <td>Very Good</td>\n",
       "      <td>243</td>\n",
       "      <td>40</td>\n",
       "      <td>0.0</td>\n",
       "      <td>-1</td>\n",
       "      <td>-1</td>\n",
       "    </tr>\n",
       "    <tr>\n",
       "      <th>211940</th>\n",
       "      <td>3200996</td>\n",
       "      <td>Raju Omlet</td>\n",
       "      <td>['Quick Bites']</td>\n",
       "      <td>https://www.zomato.com/vadodara/raju-omlet-kar...</td>\n",
       "      <td>Mahalaxmi Apartment, Opposite B O B, Karoli Ba...</td>\n",
       "      <td>Vadodara</td>\n",
       "      <td>32</td>\n",
       "      <td>Karelibaug</td>\n",
       "      <td>22.322455</td>\n",
       "      <td>73.197203</td>\n",
       "      <td>...</td>\n",
       "      <td>1</td>\n",
       "      <td>Rs.</td>\n",
       "      <td>['Dinner', 'Cash', 'Takeaway Available', 'Debi...</td>\n",
       "      <td>4.1</td>\n",
       "      <td>Very Good</td>\n",
       "      <td>187</td>\n",
       "      <td>40</td>\n",
       "      <td>0.0</td>\n",
       "      <td>1</td>\n",
       "      <td>-1</td>\n",
       "    </tr>\n",
       "    <tr>\n",
       "      <th>211941</th>\n",
       "      <td>18984164</td>\n",
       "      <td>The Grand Thakar</td>\n",
       "      <td>['Casual Dining']</td>\n",
       "      <td>https://www.zomato.com/vadodara/the-grand-thak...</td>\n",
       "      <td>3rd Floor, Shreem Shalini Mall, Opposite Conqu...</td>\n",
       "      <td>Vadodara</td>\n",
       "      <td>32</td>\n",
       "      <td>Alkapuri</td>\n",
       "      <td>22.310563</td>\n",
       "      <td>73.171163</td>\n",
       "      <td>...</td>\n",
       "      <td>2</td>\n",
       "      <td>Rs.</td>\n",
       "      <td>['Dinner', 'Cash', 'Debit Card', 'Lunch', 'Tak...</td>\n",
       "      <td>4.0</td>\n",
       "      <td>Very Good</td>\n",
       "      <td>111</td>\n",
       "      <td>38</td>\n",
       "      <td>0.0</td>\n",
       "      <td>-1</td>\n",
       "      <td>-1</td>\n",
       "    </tr>\n",
       "    <tr>\n",
       "      <th>211942</th>\n",
       "      <td>3201138</td>\n",
       "      <td>Subway</td>\n",
       "      <td>['Quick Bites']</td>\n",
       "      <td>https://www.zomato.com/vadodara/subway-1-akota...</td>\n",
       "      <td>G-2, Vedant Platina, Near Cosmos, Akota, Vadodara</td>\n",
       "      <td>Vadodara</td>\n",
       "      <td>32</td>\n",
       "      <td>Akota</td>\n",
       "      <td>22.270027</td>\n",
       "      <td>73.143068</td>\n",
       "      <td>...</td>\n",
       "      <td>2</td>\n",
       "      <td>Rs.</td>\n",
       "      <td>['Dinner', 'Delivery', 'Credit Card', 'Lunch',...</td>\n",
       "      <td>3.7</td>\n",
       "      <td>Good</td>\n",
       "      <td>128</td>\n",
       "      <td>34</td>\n",
       "      <td>0.0</td>\n",
       "      <td>1</td>\n",
       "      <td>-1</td>\n",
       "    </tr>\n",
       "    <tr>\n",
       "      <th>211943</th>\n",
       "      <td>18879846</td>\n",
       "      <td>Freshco's - The Health Cafe</td>\n",
       "      <td>['Café']</td>\n",
       "      <td>https://www.zomato.com/vadodara/freshcos-the-h...</td>\n",
       "      <td>Shop 7, Ground Floor, Opposite Natubhai Circle...</td>\n",
       "      <td>Vadodara</td>\n",
       "      <td>32</td>\n",
       "      <td>Vadiwadi</td>\n",
       "      <td>22.309935</td>\n",
       "      <td>73.158768</td>\n",
       "      <td>...</td>\n",
       "      <td>2</td>\n",
       "      <td>Rs.</td>\n",
       "      <td>['Dinner', 'Cash', 'Takeaway Available', 'Debi...</td>\n",
       "      <td>4.0</td>\n",
       "      <td>Very Good</td>\n",
       "      <td>93</td>\n",
       "      <td>53</td>\n",
       "      <td>0.0</td>\n",
       "      <td>1</td>\n",
       "      <td>-1</td>\n",
       "    </tr>\n",
       "  </tbody>\n",
       "</table>\n",
       "<p>5 rows × 26 columns</p>\n",
       "</div>"
      ],
      "text/plain": [
       "          res_id                            name      establishment  \\\n",
       "211939   3202251  Kali Mirch Cafe And Restaurant  ['Casual Dining']   \n",
       "211940   3200996                      Raju Omlet    ['Quick Bites']   \n",
       "211941  18984164                The Grand Thakar  ['Casual Dining']   \n",
       "211942   3201138                          Subway    ['Quick Bites']   \n",
       "211943  18879846     Freshco's - The Health Cafe           ['Café']   \n",
       "\n",
       "                                                      url  \\\n",
       "211939  https://www.zomato.com/vadodara/kali-mirch-caf...   \n",
       "211940  https://www.zomato.com/vadodara/raju-omlet-kar...   \n",
       "211941  https://www.zomato.com/vadodara/the-grand-thak...   \n",
       "211942  https://www.zomato.com/vadodara/subway-1-akota...   \n",
       "211943  https://www.zomato.com/vadodara/freshcos-the-h...   \n",
       "\n",
       "                                                  address      city  city_id  \\\n",
       "211939  Manu Smriti Complex, Near Navrachna School, GI...  Vadodara       32   \n",
       "211940  Mahalaxmi Apartment, Opposite B O B, Karoli Ba...  Vadodara       32   \n",
       "211941  3rd Floor, Shreem Shalini Mall, Opposite Conqu...  Vadodara       32   \n",
       "211942  G-2, Vedant Platina, Near Cosmos, Akota, Vadodara  Vadodara       32   \n",
       "211943  Shop 7, Ground Floor, Opposite Natubhai Circle...  Vadodara       32   \n",
       "\n",
       "          locality   latitude  longitude  ... price_range  currency  \\\n",
       "211939   Fatehgunj  22.336931  73.192356  ...           2       Rs.   \n",
       "211940  Karelibaug  22.322455  73.197203  ...           1       Rs.   \n",
       "211941    Alkapuri  22.310563  73.171163  ...           2       Rs.   \n",
       "211942       Akota  22.270027  73.143068  ...           2       Rs.   \n",
       "211943    Vadiwadi  22.309935  73.158768  ...           2       Rs.   \n",
       "\n",
       "                                               highlights aggregate_rating  \\\n",
       "211939  ['Dinner', 'Cash', 'Lunch', 'Delivery', 'Indoo...              4.1   \n",
       "211940  ['Dinner', 'Cash', 'Takeaway Available', 'Debi...              4.1   \n",
       "211941  ['Dinner', 'Cash', 'Debit Card', 'Lunch', 'Tak...              4.0   \n",
       "211942  ['Dinner', 'Delivery', 'Credit Card', 'Lunch',...              3.7   \n",
       "211943  ['Dinner', 'Cash', 'Takeaway Available', 'Debi...              4.0   \n",
       "\n",
       "       rating_text  votes  photo_count opentable_support delivery  takeaway  \n",
       "211939   Very Good    243           40               0.0       -1        -1  \n",
       "211940   Very Good    187           40               0.0        1        -1  \n",
       "211941   Very Good    111           38               0.0       -1        -1  \n",
       "211942        Good    128           34               0.0        1        -1  \n",
       "211943   Very Good     93           53               0.0        1        -1  \n",
       "\n",
       "[5 rows x 26 columns]"
      ]
     },
     "execution_count": 4,
     "metadata": {},
     "output_type": "execute_result"
    }
   ],
   "source": [
    "df.tail()"
   ]
  },
  {
   "cell_type": "code",
   "execution_count": 5,
   "id": "993757d8",
   "metadata": {},
   "outputs": [
    {
     "data": {
      "text/plain": [
       "99"
      ]
     },
     "execution_count": 5,
     "metadata": {},
     "output_type": "execute_result"
    }
   ],
   "source": [
    "df.city.nunique()"
   ]
  },
  {
   "cell_type": "code",
   "execution_count": 6,
   "id": "7446bfed",
   "metadata": {
    "scrolled": true
   },
   "outputs": [
    {
     "data": {
      "text/plain": [
       "array(['Agra', 'Ahmedabad', 'Gandhinagar', 'Ajmer', 'Alappuzha',\n",
       "       'Allahabad', 'Amravati', 'Amritsar', 'Aurangabad', 'Bangalore',\n",
       "       'Bhopal', 'Bhubaneshwar', 'Chandigarh', 'Mohali', 'Panchkula',\n",
       "       'Zirakpur', 'Nayagaon', 'Chennai', 'Coimbatore', 'Cuttack',\n",
       "       'Darjeeling', 'Dehradun', 'New Delhi', 'Gurgaon', 'Noida',\n",
       "       'Faridabad', 'Ghaziabad', 'Greater Noida', 'Dharamshala',\n",
       "       'Gangtok', 'Goa', 'Gorakhpur', 'Guntur', 'Guwahati', 'Gwalior',\n",
       "       'Haridwar', 'Hyderabad', 'Secunderabad', 'Indore', 'Jabalpur',\n",
       "       'Jaipur', 'Jalandhar', 'Jammu', 'Jamnagar', 'Jamshedpur', 'Jhansi',\n",
       "       'Jodhpur', 'Junagadh', 'Kanpur', 'Kharagpur', 'Kochi', 'Kolhapur',\n",
       "       'Kolkata', 'Howrah', 'Kota', 'Lucknow', 'Ludhiana', 'Madurai',\n",
       "       'Manali', 'Mangalore', 'Manipal', 'Udupi', 'Meerut', 'Mumbai',\n",
       "       'Thane', 'Navi Mumbai', 'Mussoorie', 'Mysore', 'Nagpur',\n",
       "       'Nainital', 'Nasik', 'Nashik', 'Neemrana', 'Ooty', 'Palakkad',\n",
       "       'Patiala', 'Patna', 'Puducherry', 'Pune', 'Pushkar', 'Raipur',\n",
       "       'Rajkot', 'Ranchi', 'Rishikesh', 'Salem', 'Shimla', 'Siliguri',\n",
       "       'Srinagar', 'Surat', 'Thrissur', 'Tirupati', 'Trichy',\n",
       "       'Trivandrum', 'Udaipur', 'Varanasi', 'Vellore', 'Vijayawada',\n",
       "       'Vizag', 'Vadodara'], dtype=object)"
      ]
     },
     "execution_count": 6,
     "metadata": {},
     "output_type": "execute_result"
    }
   ],
   "source": [
    "df.city.unique()"
   ]
  },
  {
   "cell_type": "code",
   "execution_count": 7,
   "id": "ff6de631",
   "metadata": {},
   "outputs": [
    {
     "data": {
      "text/plain": [
       "(211944, 26)"
      ]
     },
     "execution_count": 7,
     "metadata": {},
     "output_type": "execute_result"
    }
   ],
   "source": [
    "df.shape"
   ]
  },
  {
   "cell_type": "code",
   "execution_count": 8,
   "id": "99862392",
   "metadata": {},
   "outputs": [
    {
     "name": "stdout",
     "output_type": "stream",
     "text": [
      "<class 'pandas.core.frame.DataFrame'>\n",
      "RangeIndex: 211944 entries, 0 to 211943\n",
      "Data columns (total 26 columns):\n",
      " #   Column                Non-Null Count   Dtype  \n",
      "---  ------                --------------   -----  \n",
      " 0   res_id                211944 non-null  int64  \n",
      " 1   name                  211944 non-null  object \n",
      " 2   establishment         211944 non-null  object \n",
      " 3   url                   211944 non-null  object \n",
      " 4   address               211810 non-null  object \n",
      " 5   city                  211944 non-null  object \n",
      " 6   city_id               211944 non-null  int64  \n",
      " 7   locality              211944 non-null  object \n",
      " 8   latitude              211944 non-null  float64\n",
      " 9   longitude             211944 non-null  float64\n",
      " 10  zipcode               48757 non-null   object \n",
      " 11  country_id            211944 non-null  int64  \n",
      " 12  locality_verbose      211944 non-null  object \n",
      " 13  cuisines              210553 non-null  object \n",
      " 14  timings               208070 non-null  object \n",
      " 15  average_cost_for_two  211944 non-null  int64  \n",
      " 16  price_range           211944 non-null  int64  \n",
      " 17  currency              211944 non-null  object \n",
      " 18  highlights            211944 non-null  object \n",
      " 19  aggregate_rating      211944 non-null  float64\n",
      " 20  rating_text           211944 non-null  object \n",
      " 21  votes                 211944 non-null  int64  \n",
      " 22  photo_count           211944 non-null  int64  \n",
      " 23  opentable_support     211896 non-null  float64\n",
      " 24  delivery              211944 non-null  int64  \n",
      " 25  takeaway              211944 non-null  int64  \n",
      "dtypes: float64(4), int64(9), object(13)\n",
      "memory usage: 42.0+ MB\n"
     ]
    }
   ],
   "source": [
    "df.info()"
   ]
  },
  {
   "cell_type": "code",
   "execution_count": 9,
   "id": "193f6727",
   "metadata": {},
   "outputs": [
    {
     "data": {
      "text/html": [
       "<div>\n",
       "<style scoped>\n",
       "    .dataframe tbody tr th:only-of-type {\n",
       "        vertical-align: middle;\n",
       "    }\n",
       "\n",
       "    .dataframe tbody tr th {\n",
       "        vertical-align: top;\n",
       "    }\n",
       "\n",
       "    .dataframe thead th {\n",
       "        text-align: right;\n",
       "    }\n",
       "</style>\n",
       "<table border=\"1\" class=\"dataframe\">\n",
       "  <thead>\n",
       "    <tr style=\"text-align: right;\">\n",
       "      <th></th>\n",
       "      <th>res_id</th>\n",
       "      <th>city_id</th>\n",
       "      <th>latitude</th>\n",
       "      <th>longitude</th>\n",
       "      <th>country_id</th>\n",
       "      <th>average_cost_for_two</th>\n",
       "      <th>price_range</th>\n",
       "      <th>aggregate_rating</th>\n",
       "      <th>votes</th>\n",
       "      <th>photo_count</th>\n",
       "      <th>opentable_support</th>\n",
       "      <th>delivery</th>\n",
       "      <th>takeaway</th>\n",
       "    </tr>\n",
       "  </thead>\n",
       "  <tbody>\n",
       "    <tr>\n",
       "      <th>count</th>\n",
       "      <td>2.119440e+05</td>\n",
       "      <td>211944.000000</td>\n",
       "      <td>211944.000000</td>\n",
       "      <td>211944.000000</td>\n",
       "      <td>211944.0</td>\n",
       "      <td>211944.000000</td>\n",
       "      <td>211944.000000</td>\n",
       "      <td>211944.000000</td>\n",
       "      <td>211944.000000</td>\n",
       "      <td>211944.000000</td>\n",
       "      <td>211896.0</td>\n",
       "      <td>211944.000000</td>\n",
       "      <td>211944.0</td>\n",
       "    </tr>\n",
       "    <tr>\n",
       "      <th>mean</th>\n",
       "      <td>1.349411e+07</td>\n",
       "      <td>4746.785434</td>\n",
       "      <td>21.499758</td>\n",
       "      <td>77.615276</td>\n",
       "      <td>1.0</td>\n",
       "      <td>595.812229</td>\n",
       "      <td>1.882535</td>\n",
       "      <td>3.395937</td>\n",
       "      <td>378.001864</td>\n",
       "      <td>256.971224</td>\n",
       "      <td>0.0</td>\n",
       "      <td>-0.255907</td>\n",
       "      <td>-1.0</td>\n",
       "    </tr>\n",
       "    <tr>\n",
       "      <th>std</th>\n",
       "      <td>7.883722e+06</td>\n",
       "      <td>5568.766386</td>\n",
       "      <td>22.781331</td>\n",
       "      <td>7.500104</td>\n",
       "      <td>0.0</td>\n",
       "      <td>606.239363</td>\n",
       "      <td>0.892989</td>\n",
       "      <td>1.283642</td>\n",
       "      <td>925.333370</td>\n",
       "      <td>867.668940</td>\n",
       "      <td>0.0</td>\n",
       "      <td>0.964172</td>\n",
       "      <td>0.0</td>\n",
       "    </tr>\n",
       "    <tr>\n",
       "      <th>min</th>\n",
       "      <td>5.000000e+01</td>\n",
       "      <td>1.000000</td>\n",
       "      <td>0.000000</td>\n",
       "      <td>0.000000</td>\n",
       "      <td>1.0</td>\n",
       "      <td>0.000000</td>\n",
       "      <td>1.000000</td>\n",
       "      <td>0.000000</td>\n",
       "      <td>-18.000000</td>\n",
       "      <td>0.000000</td>\n",
       "      <td>0.0</td>\n",
       "      <td>-1.000000</td>\n",
       "      <td>-1.0</td>\n",
       "    </tr>\n",
       "    <tr>\n",
       "      <th>25%</th>\n",
       "      <td>3.301027e+06</td>\n",
       "      <td>11.000000</td>\n",
       "      <td>15.496071</td>\n",
       "      <td>74.877961</td>\n",
       "      <td>1.0</td>\n",
       "      <td>250.000000</td>\n",
       "      <td>1.000000</td>\n",
       "      <td>3.300000</td>\n",
       "      <td>16.000000</td>\n",
       "      <td>3.000000</td>\n",
       "      <td>0.0</td>\n",
       "      <td>-1.000000</td>\n",
       "      <td>-1.0</td>\n",
       "    </tr>\n",
       "    <tr>\n",
       "      <th>50%</th>\n",
       "      <td>1.869573e+07</td>\n",
       "      <td>34.000000</td>\n",
       "      <td>22.514494</td>\n",
       "      <td>77.425971</td>\n",
       "      <td>1.0</td>\n",
       "      <td>400.000000</td>\n",
       "      <td>2.000000</td>\n",
       "      <td>3.800000</td>\n",
       "      <td>100.000000</td>\n",
       "      <td>18.000000</td>\n",
       "      <td>0.0</td>\n",
       "      <td>-1.000000</td>\n",
       "      <td>-1.0</td>\n",
       "    </tr>\n",
       "    <tr>\n",
       "      <th>75%</th>\n",
       "      <td>1.881297e+07</td>\n",
       "      <td>11306.000000</td>\n",
       "      <td>26.841667</td>\n",
       "      <td>80.219323</td>\n",
       "      <td>1.0</td>\n",
       "      <td>700.000000</td>\n",
       "      <td>2.000000</td>\n",
       "      <td>4.100000</td>\n",
       "      <td>362.000000</td>\n",
       "      <td>128.000000</td>\n",
       "      <td>0.0</td>\n",
       "      <td>1.000000</td>\n",
       "      <td>-1.0</td>\n",
       "    </tr>\n",
       "    <tr>\n",
       "      <th>max</th>\n",
       "      <td>1.915979e+07</td>\n",
       "      <td>11354.000000</td>\n",
       "      <td>10000.000000</td>\n",
       "      <td>91.832769</td>\n",
       "      <td>1.0</td>\n",
       "      <td>30000.000000</td>\n",
       "      <td>4.000000</td>\n",
       "      <td>4.900000</td>\n",
       "      <td>42539.000000</td>\n",
       "      <td>17702.000000</td>\n",
       "      <td>0.0</td>\n",
       "      <td>1.000000</td>\n",
       "      <td>-1.0</td>\n",
       "    </tr>\n",
       "  </tbody>\n",
       "</table>\n",
       "</div>"
      ],
      "text/plain": [
       "             res_id        city_id       latitude      longitude  country_id  \\\n",
       "count  2.119440e+05  211944.000000  211944.000000  211944.000000    211944.0   \n",
       "mean   1.349411e+07    4746.785434      21.499758      77.615276         1.0   \n",
       "std    7.883722e+06    5568.766386      22.781331       7.500104         0.0   \n",
       "min    5.000000e+01       1.000000       0.000000       0.000000         1.0   \n",
       "25%    3.301027e+06      11.000000      15.496071      74.877961         1.0   \n",
       "50%    1.869573e+07      34.000000      22.514494      77.425971         1.0   \n",
       "75%    1.881297e+07   11306.000000      26.841667      80.219323         1.0   \n",
       "max    1.915979e+07   11354.000000   10000.000000      91.832769         1.0   \n",
       "\n",
       "       average_cost_for_two    price_range  aggregate_rating          votes  \\\n",
       "count         211944.000000  211944.000000     211944.000000  211944.000000   \n",
       "mean             595.812229       1.882535          3.395937     378.001864   \n",
       "std              606.239363       0.892989          1.283642     925.333370   \n",
       "min                0.000000       1.000000          0.000000     -18.000000   \n",
       "25%              250.000000       1.000000          3.300000      16.000000   \n",
       "50%              400.000000       2.000000          3.800000     100.000000   \n",
       "75%              700.000000       2.000000          4.100000     362.000000   \n",
       "max            30000.000000       4.000000          4.900000   42539.000000   \n",
       "\n",
       "         photo_count  opentable_support       delivery  takeaway  \n",
       "count  211944.000000           211896.0  211944.000000  211944.0  \n",
       "mean      256.971224                0.0      -0.255907      -1.0  \n",
       "std       867.668940                0.0       0.964172       0.0  \n",
       "min         0.000000                0.0      -1.000000      -1.0  \n",
       "25%         3.000000                0.0      -1.000000      -1.0  \n",
       "50%        18.000000                0.0      -1.000000      -1.0  \n",
       "75%       128.000000                0.0       1.000000      -1.0  \n",
       "max     17702.000000                0.0       1.000000      -1.0  "
      ]
     },
     "execution_count": 9,
     "metadata": {},
     "output_type": "execute_result"
    }
   ],
   "source": [
    "df.describe()"
   ]
  },
  {
   "cell_type": "markdown",
   "id": "0b9b706a",
   "metadata": {},
   "source": [
    "#### info( ) is used to know about count, null and type properties, describe( ) gives us statistical information about numerical data."
   ]
  },
  {
   "cell_type": "code",
   "execution_count": 10,
   "id": "704713b1",
   "metadata": {},
   "outputs": [
    {
     "data": {
      "text/plain": [
       "(55568, 26)"
      ]
     },
     "execution_count": 10,
     "metadata": {},
     "output_type": "execute_result"
    }
   ],
   "source": [
    "df.drop_duplicates([\"res_id\"],keep='first',inplace=True)\n",
    "df.shape"
   ]
  },
  {
   "cell_type": "code",
   "execution_count": 11,
   "id": "36b7649c",
   "metadata": {},
   "outputs": [
    {
     "data": {
      "text/plain": [
       "res_id                      0\n",
       "name                        0\n",
       "establishment               0\n",
       "url                         0\n",
       "address                    18\n",
       "city                        0\n",
       "city_id                     0\n",
       "locality                    0\n",
       "latitude                    0\n",
       "longitude                   0\n",
       "zipcode                 44623\n",
       "country_id                  0\n",
       "locality_verbose            0\n",
       "cuisines                  470\n",
       "timings                  1003\n",
       "average_cost_for_two        0\n",
       "price_range                 0\n",
       "currency                    0\n",
       "highlights                  0\n",
       "aggregate_rating            0\n",
       "rating_text                 0\n",
       "votes                       0\n",
       "photo_count                 0\n",
       "opentable_support          12\n",
       "delivery                    0\n",
       "takeaway                    0\n",
       "dtype: int64"
      ]
     },
     "execution_count": 11,
     "metadata": {},
     "output_type": "execute_result"
    }
   ],
   "source": [
    "df.isnull().sum()"
   ]
  },
  {
   "cell_type": "code",
   "execution_count": 12,
   "id": "94559375",
   "metadata": {},
   "outputs": [
    {
     "data": {
      "text/plain": [
       "array([\"['Quick Bites']\", \"['Casual Dining']\", \"['Bakery']\", \"['Café']\",\n",
       "       \"['Dhaba']\", \"['Bhojanalya']\", \"['Bar']\", \"['Sweet Shop']\",\n",
       "       \"['Fine Dining']\", \"['Food Truck']\", \"['Dessert Parlour']\",\n",
       "       \"['Lounge']\", \"['Pub']\", \"['Beverage Shop']\", \"['Kiosk']\",\n",
       "       \"['Paan Shop']\", \"['Confectionery']\", '[]', \"['Shack']\",\n",
       "       \"['Club']\", \"['Food Court']\", \"['Mess']\", \"['Butcher Shop']\",\n",
       "       \"['Microbrewery']\", \"['Cocktail Bar']\", \"['Pop up']\",\n",
       "       \"['Irani Cafe']\"], dtype=object)"
      ]
     },
     "execution_count": 12,
     "metadata": {},
     "output_type": "execute_result"
    }
   ],
   "source": [
    "df[\"establishment\"].unique()"
   ]
  },
  {
   "cell_type": "code",
   "execution_count": 13,
   "id": "7b4ba205",
   "metadata": {},
   "outputs": [
    {
     "name": "stdout",
     "output_type": "stream",
     "text": [
      "['Casual Dining']\n",
      "<class 'str'>\n"
     ]
    }
   ],
   "source": [
    "print(df[\"establishment\"].unique()[1])\n",
    "print(type(df[\"establishment\"].unique()[1]))"
   ]
  },
  {
   "cell_type": "code",
   "execution_count": 14,
   "id": "ba2998d1",
   "metadata": {},
   "outputs": [
    {
     "name": "stdout",
     "output_type": "stream",
     "text": [
      "Casual Dining\n"
     ]
    }
   ],
   "source": [
    "df['establishment'] = df['establishment'].str.replace(r'\\[|\\]', '', regex=True)\n",
    "df['establishment'] = df['establishment'].str.replace(\"'\", '', regex=False)\n",
    "print(df[\"establishment\"].unique()[1])"
   ]
  },
  {
   "cell_type": "code",
   "execution_count": 15,
   "id": "2d95e193",
   "metadata": {},
   "outputs": [
    {
     "name": "stdout",
     "output_type": "stream",
     "text": [
      "['Quick Bites' 'Casual Dining' 'Bakery' 'Café' 'Dhaba' 'Bhojanalya' 'Bar'\n",
      " 'Sweet Shop' 'Fine Dining' 'Food Truck' 'Dessert Parlour' 'Lounge' 'Pub'\n",
      " 'Beverage Shop' 'Kiosk' 'Paan Shop' 'Confectionery' '' 'Shack' 'Club'\n",
      " 'Food Court' 'Mess' 'Butcher Shop' 'Microbrewery' 'Cocktail Bar' 'Pop up'\n",
      " 'Irani Cafe']\n"
     ]
    }
   ],
   "source": [
    "print(df[\"establishment\"].unique())"
   ]
  },
  {
   "cell_type": "code",
   "execution_count": 16,
   "id": "f0845bde",
   "metadata": {},
   "outputs": [
    {
     "name": "stdout",
     "output_type": "stream",
     "text": [
      "['Quick Bites' 'Casual Dining' 'Bakery' 'Café' 'Dhaba' 'Bhojanalya' 'Bar'\n",
      " 'Sweet Shop' 'Fine Dining' 'Food Truck' 'Dessert Parlour' 'Lounge' 'Pub'\n",
      " 'Beverage Shop' 'Kiosk' 'Paan Shop' 'Confectionery' 'NA' 'Shack' 'Club'\n",
      " 'Food Court' 'Mess' 'Butcher Shop' 'Microbrewery' 'Cocktail Bar' 'Pop up'\n",
      " 'Irani Cafe']\n"
     ]
    }
   ],
   "source": [
    "df['establishment'] = df['establishment'].replace('', 'NA')\n",
    "print(df[\"establishment\"].unique())"
   ]
  },
  {
   "cell_type": "code",
   "execution_count": 17,
   "id": "9fa64211",
   "metadata": {},
   "outputs": [
    {
     "data": {
      "text/plain": [
       "906"
      ]
     },
     "execution_count": 17,
     "metadata": {},
     "output_type": "execute_result"
    }
   ],
   "source": [
    "len(df[df[\"city\"]==\"Bhopal\"])"
   ]
  },
  {
   "cell_type": "code",
   "execution_count": 18,
   "id": "1f9e5cba",
   "metadata": {},
   "outputs": [
    {
     "data": {
      "text/plain": [
       "1026"
      ]
     },
     "execution_count": 18,
     "metadata": {},
     "output_type": "execute_result"
    }
   ],
   "source": [
    "len(df[df[\"city\"]==\"Indore\"])"
   ]
  },
  {
   "cell_type": "code",
   "execution_count": 19,
   "id": "8ef943ec",
   "metadata": {},
   "outputs": [
    {
     "data": {
      "text/plain": [
       "99"
      ]
     },
     "execution_count": 19,
     "metadata": {},
     "output_type": "execute_result"
    }
   ],
   "source": [
    "len(df[\"city\"].unique())"
   ]
  },
  {
   "cell_type": "code",
   "execution_count": 20,
   "id": "27ed273a",
   "metadata": {},
   "outputs": [
    {
     "data": {
      "text/plain": [
       "array(['Agra', 'Ahmedabad', 'Gandhinagar', 'Ajmer', 'Alappuzha',\n",
       "       'Allahabad', 'Amravati', 'Amritsar', 'Aurangabad', 'Bangalore',\n",
       "       'Bhopal', 'Bhubaneshwar', 'Chandigarh', 'Mohali', 'Panchkula',\n",
       "       'Zirakpur', 'Nayagaon', 'Chennai', 'Coimbatore', 'Cuttack',\n",
       "       'Darjeeling', 'Dehradun', 'New Delhi', 'Gurgaon', 'Noida',\n",
       "       'Faridabad', 'Ghaziabad', 'Greater Noida', 'Dharamshala',\n",
       "       'Gangtok', 'Goa', 'Gorakhpur', 'Guntur', 'Guwahati', 'Gwalior',\n",
       "       'Haridwar', 'Hyderabad', 'Secunderabad', 'Indore', 'Jabalpur',\n",
       "       'Jaipur', 'Jalandhar', 'Jammu', 'Jamnagar', 'Jamshedpur', 'Jhansi',\n",
       "       'Jodhpur', 'Junagadh', 'Kanpur', 'Kharagpur', 'Kochi', 'Kolhapur',\n",
       "       'Kolkata', 'Howrah', 'Kota', 'Lucknow', 'Ludhiana', 'Madurai',\n",
       "       'Manali', 'Mangalore', 'Manipal', 'Udupi', 'Meerut', 'Mumbai',\n",
       "       'Thane', 'Navi Mumbai', 'Mussoorie', 'Mysore', 'Nagpur',\n",
       "       'Nainital', 'Nasik', 'Nashik', 'Neemrana', 'Ooty', 'Palakkad',\n",
       "       'Patiala', 'Patna', 'Puducherry', 'Pune', 'Pushkar', 'Raipur',\n",
       "       'Rajkot', 'Ranchi', 'Rishikesh', 'Salem', 'Shimla', 'Siliguri',\n",
       "       'Srinagar', 'Surat', 'Thrissur', 'Tirupati', 'Trichy',\n",
       "       'Trivandrum', 'Udaipur', 'Varanasi', 'Vellore', 'Vijayawada',\n",
       "       'Vizag', 'Vadodara'], dtype=object)"
      ]
     },
     "execution_count": 20,
     "metadata": {},
     "output_type": "execute_result"
    }
   ],
   "source": [
    "df[\"city\"].unique()"
   ]
  },
  {
   "cell_type": "code",
   "execution_count": 21,
   "id": "ea6d1cca",
   "metadata": {},
   "outputs": [
    {
     "data": {
      "text/html": [
       "<div>\n",
       "<style scoped>\n",
       "    .dataframe tbody tr th:only-of-type {\n",
       "        vertical-align: middle;\n",
       "    }\n",
       "\n",
       "    .dataframe tbody tr th {\n",
       "        vertical-align: top;\n",
       "    }\n",
       "\n",
       "    .dataframe thead th {\n",
       "        text-align: right;\n",
       "    }\n",
       "</style>\n",
       "<table border=\"1\" class=\"dataframe\">\n",
       "  <thead>\n",
       "    <tr style=\"text-align: right;\">\n",
       "      <th></th>\n",
       "      <th>res_id</th>\n",
       "      <th>name</th>\n",
       "      <th>establishment</th>\n",
       "      <th>url</th>\n",
       "      <th>address</th>\n",
       "      <th>city</th>\n",
       "      <th>city_id</th>\n",
       "      <th>locality</th>\n",
       "      <th>latitude</th>\n",
       "      <th>longitude</th>\n",
       "      <th>...</th>\n",
       "      <th>price_range</th>\n",
       "      <th>currency</th>\n",
       "      <th>highlights</th>\n",
       "      <th>aggregate_rating</th>\n",
       "      <th>rating_text</th>\n",
       "      <th>votes</th>\n",
       "      <th>photo_count</th>\n",
       "      <th>opentable_support</th>\n",
       "      <th>delivery</th>\n",
       "      <th>takeaway</th>\n",
       "    </tr>\n",
       "  </thead>\n",
       "  <tbody>\n",
       "    <tr>\n",
       "      <th>24601</th>\n",
       "      <td>2600230</td>\n",
       "      <td>Manohar Dairy And Restaurant</td>\n",
       "      <td>Quick Bites</td>\n",
       "      <td>https://www.zomato.com/bhopal/manohar-dairy-an...</td>\n",
       "      <td>132, Zone 1, Maharana Pratap Nagar, Bhopal</td>\n",
       "      <td>Bhopal</td>\n",
       "      <td>26</td>\n",
       "      <td>Maharana Pratap Nagar</td>\n",
       "      <td>23.234256</td>\n",
       "      <td>77.434070</td>\n",
       "      <td>...</td>\n",
       "      <td>2</td>\n",
       "      <td>Rs.</td>\n",
       "      <td>['Dinner', 'Lunch', 'Delivery', 'Breakfast', '...</td>\n",
       "      <td>4.8</td>\n",
       "      <td>Excellent</td>\n",
       "      <td>1450</td>\n",
       "      <td>466</td>\n",
       "      <td>0.0</td>\n",
       "      <td>1</td>\n",
       "      <td>-1</td>\n",
       "    </tr>\n",
       "    <tr>\n",
       "      <th>24602</th>\n",
       "      <td>2600499</td>\n",
       "      <td>Zam Zam Fast Food</td>\n",
       "      <td>Casual Dining</td>\n",
       "      <td>https://www.zomato.com/bhopal/zam-zam-fast-foo...</td>\n",
       "      <td>Hamidia Road, Besides Alpan Cinema, Peer Gate ...</td>\n",
       "      <td>Bhopal</td>\n",
       "      <td>26</td>\n",
       "      <td>Peer Gate Area</td>\n",
       "      <td>23.264345</td>\n",
       "      <td>77.409945</td>\n",
       "      <td>...</td>\n",
       "      <td>2</td>\n",
       "      <td>Rs.</td>\n",
       "      <td>['Dinner', 'Takeaway Available', 'Lunch', 'Cas...</td>\n",
       "      <td>4.3</td>\n",
       "      <td>Very Good</td>\n",
       "      <td>1124</td>\n",
       "      <td>60</td>\n",
       "      <td>0.0</td>\n",
       "      <td>1</td>\n",
       "      <td>-1</td>\n",
       "    </tr>\n",
       "    <tr>\n",
       "      <th>24603</th>\n",
       "      <td>2600334</td>\n",
       "      <td>Sagar Gaire Fast Food</td>\n",
       "      <td>Quick Bites</td>\n",
       "      <td>https://www.zomato.com/bhopal/sagar-gaire-fast...</td>\n",
       "      <td>Shop  33-34,Ground Floor, Platinum Plaza, TT N...</td>\n",
       "      <td>Bhopal</td>\n",
       "      <td>26</td>\n",
       "      <td>TT Nagar</td>\n",
       "      <td>23.227220</td>\n",
       "      <td>77.401557</td>\n",
       "      <td>...</td>\n",
       "      <td>1</td>\n",
       "      <td>Rs.</td>\n",
       "      <td>['Lunch', 'Cash', 'Takeaway Available', 'No Al...</td>\n",
       "      <td>4.6</td>\n",
       "      <td>Excellent</td>\n",
       "      <td>1591</td>\n",
       "      <td>90</td>\n",
       "      <td>0.0</td>\n",
       "      <td>-1</td>\n",
       "      <td>-1</td>\n",
       "    </tr>\n",
       "    <tr>\n",
       "      <th>24604</th>\n",
       "      <td>18812768</td>\n",
       "      <td>Anni Bhai ki Biryani</td>\n",
       "      <td>Quick Bites</td>\n",
       "      <td>https://www.zomato.com/bhopal/anni-bhai-ki-bir...</td>\n",
       "      <td>Shop 1, Qazi Camp, Next to Taj Studio, JP Naga...</td>\n",
       "      <td>Bhopal</td>\n",
       "      <td>26</td>\n",
       "      <td>JP Nagar</td>\n",
       "      <td>23.272252</td>\n",
       "      <td>77.401907</td>\n",
       "      <td>...</td>\n",
       "      <td>1</td>\n",
       "      <td>Rs.</td>\n",
       "      <td>['Lunch', 'Cash', 'Takeaway Available', 'No Al...</td>\n",
       "      <td>4.5</td>\n",
       "      <td>Excellent</td>\n",
       "      <td>543</td>\n",
       "      <td>6</td>\n",
       "      <td>0.0</td>\n",
       "      <td>1</td>\n",
       "      <td>-1</td>\n",
       "    </tr>\n",
       "    <tr>\n",
       "      <th>24605</th>\n",
       "      <td>2600051</td>\n",
       "      <td>Al-Beik</td>\n",
       "      <td>Quick Bites</td>\n",
       "      <td>https://www.zomato.com/bhopal/al-beik-2-mahara...</td>\n",
       "      <td>Al- Beik -5 , Plot No: 9, Ram  Gopal Maheshwar...</td>\n",
       "      <td>Bhopal</td>\n",
       "      <td>26</td>\n",
       "      <td>Maharana Pratap Nagar</td>\n",
       "      <td>23.234292</td>\n",
       "      <td>77.434670</td>\n",
       "      <td>...</td>\n",
       "      <td>1</td>\n",
       "      <td>Rs.</td>\n",
       "      <td>['Lunch', 'Cash', 'Takeaway Available', 'Debit...</td>\n",
       "      <td>4.3</td>\n",
       "      <td>Very Good</td>\n",
       "      <td>1144</td>\n",
       "      <td>44</td>\n",
       "      <td>0.0</td>\n",
       "      <td>1</td>\n",
       "      <td>-1</td>\n",
       "    </tr>\n",
       "    <tr>\n",
       "      <th>...</th>\n",
       "      <td>...</td>\n",
       "      <td>...</td>\n",
       "      <td>...</td>\n",
       "      <td>...</td>\n",
       "      <td>...</td>\n",
       "      <td>...</td>\n",
       "      <td>...</td>\n",
       "      <td>...</td>\n",
       "      <td>...</td>\n",
       "      <td>...</td>\n",
       "      <td>...</td>\n",
       "      <td>...</td>\n",
       "      <td>...</td>\n",
       "      <td>...</td>\n",
       "      <td>...</td>\n",
       "      <td>...</td>\n",
       "      <td>...</td>\n",
       "      <td>...</td>\n",
       "      <td>...</td>\n",
       "      <td>...</td>\n",
       "      <td>...</td>\n",
       "    </tr>\n",
       "    <tr>\n",
       "      <th>27037</th>\n",
       "      <td>18936737</td>\n",
       "      <td>Gupta Ji Burger Center And Fast Food</td>\n",
       "      <td>Quick Bites</td>\n",
       "      <td>https://www.zomato.com/bhopal/gupta-ji-burger-...</td>\n",
       "      <td>10, Hawkers Corner, State Bank, Arera Colony, ...</td>\n",
       "      <td>Bhopal</td>\n",
       "      <td>26</td>\n",
       "      <td>Arera Colony</td>\n",
       "      <td>23.213691</td>\n",
       "      <td>77.436325</td>\n",
       "      <td>...</td>\n",
       "      <td>2</td>\n",
       "      <td>Rs.</td>\n",
       "      <td>['Delivery', 'Lunch', 'Takeaway Available', 'N...</td>\n",
       "      <td>3.7</td>\n",
       "      <td>Good</td>\n",
       "      <td>19</td>\n",
       "      <td>5</td>\n",
       "      <td>0.0</td>\n",
       "      <td>1</td>\n",
       "      <td>-1</td>\n",
       "    </tr>\n",
       "    <tr>\n",
       "      <th>27040</th>\n",
       "      <td>18855526</td>\n",
       "      <td>Spicy Fast Food Center</td>\n",
       "      <td>Quick Bites</td>\n",
       "      <td>https://www.zomato.com/bhopal/spicy-fast-food-...</td>\n",
       "      <td>Shop 9, Bandhan Shadi Hall, Karond, Airport Ar...</td>\n",
       "      <td>Bhopal</td>\n",
       "      <td>26</td>\n",
       "      <td>Airport Area</td>\n",
       "      <td>23.300940</td>\n",
       "      <td>77.404137</td>\n",
       "      <td>...</td>\n",
       "      <td>1</td>\n",
       "      <td>Rs.</td>\n",
       "      <td>['Dinner', 'Delivery', 'Lunch', 'Cash', 'Takea...</td>\n",
       "      <td>3.7</td>\n",
       "      <td>Good</td>\n",
       "      <td>31</td>\n",
       "      <td>5</td>\n",
       "      <td>0.0</td>\n",
       "      <td>1</td>\n",
       "      <td>-1</td>\n",
       "    </tr>\n",
       "    <tr>\n",
       "      <th>27187</th>\n",
       "      <td>18813682</td>\n",
       "      <td>Royal Kitchen Indian Restaurant</td>\n",
       "      <td>Casual Dining</td>\n",
       "      <td>https://www.zomato.com/bhopal/royal-kitchen-in...</td>\n",
       "      <td>Nayapura New Central Jail, Airport Road, Airpo...</td>\n",
       "      <td>Bhopal</td>\n",
       "      <td>26</td>\n",
       "      <td>Airport Area</td>\n",
       "      <td>23.301217</td>\n",
       "      <td>77.373904</td>\n",
       "      <td>...</td>\n",
       "      <td>2</td>\n",
       "      <td>Rs.</td>\n",
       "      <td>['Delivery', 'Lunch', 'Takeaway Available', 'D...</td>\n",
       "      <td>3.6</td>\n",
       "      <td>Good</td>\n",
       "      <td>53</td>\n",
       "      <td>11</td>\n",
       "      <td>0.0</td>\n",
       "      <td>1</td>\n",
       "      <td>-1</td>\n",
       "    </tr>\n",
       "    <tr>\n",
       "      <th>27195</th>\n",
       "      <td>18789478</td>\n",
       "      <td>Hakeem Hotel</td>\n",
       "      <td>Casual Dining</td>\n",
       "      <td>https://www.zomato.com/bhopal/hakeem-hotel-bhe...</td>\n",
       "      <td>7, Minal Gate 1, J.K Road, Ayodhya Road, BHEL,...</td>\n",
       "      <td>Bhopal</td>\n",
       "      <td>26</td>\n",
       "      <td>BHEL</td>\n",
       "      <td>23.267170</td>\n",
       "      <td>77.457964</td>\n",
       "      <td>...</td>\n",
       "      <td>2</td>\n",
       "      <td>Rs.</td>\n",
       "      <td>['Lunch', 'Delivery', 'Credit Card', 'Dinner',...</td>\n",
       "      <td>3.6</td>\n",
       "      <td>Good</td>\n",
       "      <td>93</td>\n",
       "      <td>4</td>\n",
       "      <td>0.0</td>\n",
       "      <td>1</td>\n",
       "      <td>-1</td>\n",
       "    </tr>\n",
       "    <tr>\n",
       "      <th>27218</th>\n",
       "      <td>2601496</td>\n",
       "      <td>The Barni House</td>\n",
       "      <td>Casual Dining</td>\n",
       "      <td>https://www.zomato.com/bhopal/the-barni-house-...</td>\n",
       "      <td>G-1/109, 3rd Floor, Ajay Complex, Above IndusI...</td>\n",
       "      <td>Bhopal</td>\n",
       "      <td>26</td>\n",
       "      <td>Gulmohar Colony</td>\n",
       "      <td>23.190295</td>\n",
       "      <td>77.433430</td>\n",
       "      <td>...</td>\n",
       "      <td>2</td>\n",
       "      <td>Rs.</td>\n",
       "      <td>['Lunch', 'Cash', 'Takeaway Available', 'Debit...</td>\n",
       "      <td>3.7</td>\n",
       "      <td>Good</td>\n",
       "      <td>82</td>\n",
       "      <td>62</td>\n",
       "      <td>0.0</td>\n",
       "      <td>1</td>\n",
       "      <td>-1</td>\n",
       "    </tr>\n",
       "  </tbody>\n",
       "</table>\n",
       "<p>906 rows × 26 columns</p>\n",
       "</div>"
      ],
      "text/plain": [
       "         res_id                                  name  establishment  \\\n",
       "24601   2600230          Manohar Dairy And Restaurant    Quick Bites   \n",
       "24602   2600499                     Zam Zam Fast Food  Casual Dining   \n",
       "24603   2600334                 Sagar Gaire Fast Food    Quick Bites   \n",
       "24604  18812768                  Anni Bhai ki Biryani    Quick Bites   \n",
       "24605   2600051                               Al-Beik    Quick Bites   \n",
       "...         ...                                   ...            ...   \n",
       "27037  18936737  Gupta Ji Burger Center And Fast Food    Quick Bites   \n",
       "27040  18855526                Spicy Fast Food Center    Quick Bites   \n",
       "27187  18813682       Royal Kitchen Indian Restaurant  Casual Dining   \n",
       "27195  18789478                          Hakeem Hotel  Casual Dining   \n",
       "27218   2601496                       The Barni House  Casual Dining   \n",
       "\n",
       "                                                     url  \\\n",
       "24601  https://www.zomato.com/bhopal/manohar-dairy-an...   \n",
       "24602  https://www.zomato.com/bhopal/zam-zam-fast-foo...   \n",
       "24603  https://www.zomato.com/bhopal/sagar-gaire-fast...   \n",
       "24604  https://www.zomato.com/bhopal/anni-bhai-ki-bir...   \n",
       "24605  https://www.zomato.com/bhopal/al-beik-2-mahara...   \n",
       "...                                                  ...   \n",
       "27037  https://www.zomato.com/bhopal/gupta-ji-burger-...   \n",
       "27040  https://www.zomato.com/bhopal/spicy-fast-food-...   \n",
       "27187  https://www.zomato.com/bhopal/royal-kitchen-in...   \n",
       "27195  https://www.zomato.com/bhopal/hakeem-hotel-bhe...   \n",
       "27218  https://www.zomato.com/bhopal/the-barni-house-...   \n",
       "\n",
       "                                                 address    city  city_id  \\\n",
       "24601         132, Zone 1, Maharana Pratap Nagar, Bhopal  Bhopal       26   \n",
       "24602  Hamidia Road, Besides Alpan Cinema, Peer Gate ...  Bhopal       26   \n",
       "24603  Shop  33-34,Ground Floor, Platinum Plaza, TT N...  Bhopal       26   \n",
       "24604  Shop 1, Qazi Camp, Next to Taj Studio, JP Naga...  Bhopal       26   \n",
       "24605  Al- Beik -5 , Plot No: 9, Ram  Gopal Maheshwar...  Bhopal       26   \n",
       "...                                                  ...     ...      ...   \n",
       "27037  10, Hawkers Corner, State Bank, Arera Colony, ...  Bhopal       26   \n",
       "27040  Shop 9, Bandhan Shadi Hall, Karond, Airport Ar...  Bhopal       26   \n",
       "27187  Nayapura New Central Jail, Airport Road, Airpo...  Bhopal       26   \n",
       "27195  7, Minal Gate 1, J.K Road, Ayodhya Road, BHEL,...  Bhopal       26   \n",
       "27218  G-1/109, 3rd Floor, Ajay Complex, Above IndusI...  Bhopal       26   \n",
       "\n",
       "                    locality   latitude  longitude  ... price_range  currency  \\\n",
       "24601  Maharana Pratap Nagar  23.234256  77.434070  ...           2       Rs.   \n",
       "24602         Peer Gate Area  23.264345  77.409945  ...           2       Rs.   \n",
       "24603               TT Nagar  23.227220  77.401557  ...           1       Rs.   \n",
       "24604               JP Nagar  23.272252  77.401907  ...           1       Rs.   \n",
       "24605  Maharana Pratap Nagar  23.234292  77.434670  ...           1       Rs.   \n",
       "...                      ...        ...        ...  ...         ...       ...   \n",
       "27037           Arera Colony  23.213691  77.436325  ...           2       Rs.   \n",
       "27040           Airport Area  23.300940  77.404137  ...           1       Rs.   \n",
       "27187           Airport Area  23.301217  77.373904  ...           2       Rs.   \n",
       "27195                   BHEL  23.267170  77.457964  ...           2       Rs.   \n",
       "27218        Gulmohar Colony  23.190295  77.433430  ...           2       Rs.   \n",
       "\n",
       "                                              highlights aggregate_rating  \\\n",
       "24601  ['Dinner', 'Lunch', 'Delivery', 'Breakfast', '...              4.8   \n",
       "24602  ['Dinner', 'Takeaway Available', 'Lunch', 'Cas...              4.3   \n",
       "24603  ['Lunch', 'Cash', 'Takeaway Available', 'No Al...              4.6   \n",
       "24604  ['Lunch', 'Cash', 'Takeaway Available', 'No Al...              4.5   \n",
       "24605  ['Lunch', 'Cash', 'Takeaway Available', 'Debit...              4.3   \n",
       "...                                                  ...              ...   \n",
       "27037  ['Delivery', 'Lunch', 'Takeaway Available', 'N...              3.7   \n",
       "27040  ['Dinner', 'Delivery', 'Lunch', 'Cash', 'Takea...              3.7   \n",
       "27187  ['Delivery', 'Lunch', 'Takeaway Available', 'D...              3.6   \n",
       "27195  ['Lunch', 'Delivery', 'Credit Card', 'Dinner',...              3.6   \n",
       "27218  ['Lunch', 'Cash', 'Takeaway Available', 'Debit...              3.7   \n",
       "\n",
       "      rating_text  votes  photo_count opentable_support delivery  takeaway  \n",
       "24601   Excellent   1450          466               0.0        1        -1  \n",
       "24602   Very Good   1124           60               0.0        1        -1  \n",
       "24603   Excellent   1591           90               0.0       -1        -1  \n",
       "24604   Excellent    543            6               0.0        1        -1  \n",
       "24605   Very Good   1144           44               0.0        1        -1  \n",
       "...           ...    ...          ...               ...      ...       ...  \n",
       "27037        Good     19            5               0.0        1        -1  \n",
       "27040        Good     31            5               0.0        1        -1  \n",
       "27187        Good     53           11               0.0        1        -1  \n",
       "27195        Good     93            4               0.0        1        -1  \n",
       "27218        Good     82           62               0.0        1        -1  \n",
       "\n",
       "[906 rows x 26 columns]"
      ]
     },
     "execution_count": 21,
     "metadata": {},
     "output_type": "execute_result"
    }
   ],
   "source": [
    "df[df[\"city\"]==\"Bhopal\"]"
   ]
  },
  {
   "cell_type": "code",
   "execution_count": 22,
   "id": "dc5f08d8",
   "metadata": {},
   "outputs": [
    {
     "data": {
      "text/html": [
       "<div>\n",
       "<style scoped>\n",
       "    .dataframe tbody tr th:only-of-type {\n",
       "        vertical-align: middle;\n",
       "    }\n",
       "\n",
       "    .dataframe tbody tr th {\n",
       "        vertical-align: top;\n",
       "    }\n",
       "\n",
       "    .dataframe thead th {\n",
       "        text-align: right;\n",
       "    }\n",
       "</style>\n",
       "<table border=\"1\" class=\"dataframe\">\n",
       "  <thead>\n",
       "    <tr style=\"text-align: right;\">\n",
       "      <th></th>\n",
       "      <th>res_id</th>\n",
       "      <th>name</th>\n",
       "      <th>establishment</th>\n",
       "      <th>url</th>\n",
       "      <th>address</th>\n",
       "      <th>city</th>\n",
       "      <th>city_id</th>\n",
       "      <th>locality</th>\n",
       "      <th>latitude</th>\n",
       "      <th>longitude</th>\n",
       "      <th>...</th>\n",
       "      <th>price_range</th>\n",
       "      <th>currency</th>\n",
       "      <th>highlights</th>\n",
       "      <th>aggregate_rating</th>\n",
       "      <th>rating_text</th>\n",
       "      <th>votes</th>\n",
       "      <th>photo_count</th>\n",
       "      <th>opentable_support</th>\n",
       "      <th>delivery</th>\n",
       "      <th>takeaway</th>\n",
       "    </tr>\n",
       "  </thead>\n",
       "  <tbody>\n",
       "    <tr>\n",
       "      <th>79621</th>\n",
       "      <td>18625117</td>\n",
       "      <td>Namo Sandwich</td>\n",
       "      <td>Quick Bites</td>\n",
       "      <td>https://www.zomato.com/indore/namo-sandwich-1-...</td>\n",
       "      <td>610, Narendra Tiwari Marg, Usha Nagar, Sudama ...</td>\n",
       "      <td>Indore</td>\n",
       "      <td>14</td>\n",
       "      <td>Sudama Nagar</td>\n",
       "      <td>22.696331</td>\n",
       "      <td>75.834857</td>\n",
       "      <td>...</td>\n",
       "      <td>2</td>\n",
       "      <td>Rs.</td>\n",
       "      <td>['Dinner', 'Cash', 'Takeaway Available', 'Cred...</td>\n",
       "      <td>4.3</td>\n",
       "      <td>Very Good</td>\n",
       "      <td>860</td>\n",
       "      <td>244</td>\n",
       "      <td>0.0</td>\n",
       "      <td>-1</td>\n",
       "      <td>-1</td>\n",
       "    </tr>\n",
       "    <tr>\n",
       "      <th>79622</th>\n",
       "      <td>1400096</td>\n",
       "      <td>Bake N Shake</td>\n",
       "      <td>Café</td>\n",
       "      <td>https://www.zomato.com/indore/bake-n-shake-vij...</td>\n",
       "      <td>Shop 3 &amp; 4, Giriraj Grande, Satya Sai Square, ...</td>\n",
       "      <td>Indore</td>\n",
       "      <td>14</td>\n",
       "      <td>BCM Heights, Vijay Nagar</td>\n",
       "      <td>22.755705</td>\n",
       "      <td>75.895287</td>\n",
       "      <td>...</td>\n",
       "      <td>2</td>\n",
       "      <td>Rs.</td>\n",
       "      <td>['Dinner', 'Mall Parking', 'Delivery', 'Credit...</td>\n",
       "      <td>4.2</td>\n",
       "      <td>Very Good</td>\n",
       "      <td>683</td>\n",
       "      <td>357</td>\n",
       "      <td>0.0</td>\n",
       "      <td>-1</td>\n",
       "      <td>-1</td>\n",
       "    </tr>\n",
       "    <tr>\n",
       "      <th>79623</th>\n",
       "      <td>1400382</td>\n",
       "      <td>Shree Gurukripa</td>\n",
       "      <td>Casual Dining</td>\n",
       "      <td>https://www.zomato.com/indore/shree-gurukripa-...</td>\n",
       "      <td>13, Choti Gwaltoli, Sarwate Bus Stand, Indore</td>\n",
       "      <td>Indore</td>\n",
       "      <td>14</td>\n",
       "      <td>Sarwate Bus Stand</td>\n",
       "      <td>22.714090</td>\n",
       "      <td>75.868851</td>\n",
       "      <td>...</td>\n",
       "      <td>2</td>\n",
       "      <td>Rs.</td>\n",
       "      <td>['Dinner', 'Cash', 'Debit Card', 'Lunch', 'Tak...</td>\n",
       "      <td>4.3</td>\n",
       "      <td>Very Good</td>\n",
       "      <td>2030</td>\n",
       "      <td>72</td>\n",
       "      <td>0.0</td>\n",
       "      <td>-1</td>\n",
       "      <td>-1</td>\n",
       "    </tr>\n",
       "    <tr>\n",
       "      <th>79624</th>\n",
       "      <td>1400056</td>\n",
       "      <td>Nafees Restaurant</td>\n",
       "      <td>Casual Dining</td>\n",
       "      <td>https://www.zomato.com/indore/nafees-restauran...</td>\n",
       "      <td>30-B, Apollo Avenue, Opposite Palasia Thana</td>\n",
       "      <td>Indore</td>\n",
       "      <td>14</td>\n",
       "      <td>Old Palasia</td>\n",
       "      <td>22.725712</td>\n",
       "      <td>75.887757</td>\n",
       "      <td>...</td>\n",
       "      <td>3</td>\n",
       "      <td>Rs.</td>\n",
       "      <td>['Credit Card', 'No Alcohol Available', 'Dinne...</td>\n",
       "      <td>4.3</td>\n",
       "      <td>Very Good</td>\n",
       "      <td>2987</td>\n",
       "      <td>336</td>\n",
       "      <td>0.0</td>\n",
       "      <td>-1</td>\n",
       "      <td>-1</td>\n",
       "    </tr>\n",
       "    <tr>\n",
       "      <th>79625</th>\n",
       "      <td>1400365</td>\n",
       "      <td>Hotel Guru Kripa</td>\n",
       "      <td>Quick Bites</td>\n",
       "      <td>https://www.zomato.com/indore/hotel-guru-kripa...</td>\n",
       "      <td>Mahatma Gandhi Road, Murai Mohalla, Chhawni, S...</td>\n",
       "      <td>Indore</td>\n",
       "      <td>14</td>\n",
       "      <td>Sarwate Bus Stand</td>\n",
       "      <td>22.714086</td>\n",
       "      <td>75.868846</td>\n",
       "      <td>...</td>\n",
       "      <td>2</td>\n",
       "      <td>Rs.</td>\n",
       "      <td>['Dinner', 'Cash', 'Breakfast', 'Lunch', 'Take...</td>\n",
       "      <td>4.3</td>\n",
       "      <td>Very Good</td>\n",
       "      <td>3441</td>\n",
       "      <td>151</td>\n",
       "      <td>0.0</td>\n",
       "      <td>-1</td>\n",
       "      <td>-1</td>\n",
       "    </tr>\n",
       "    <tr>\n",
       "      <th>...</th>\n",
       "      <td>...</td>\n",
       "      <td>...</td>\n",
       "      <td>...</td>\n",
       "      <td>...</td>\n",
       "      <td>...</td>\n",
       "      <td>...</td>\n",
       "      <td>...</td>\n",
       "      <td>...</td>\n",
       "      <td>...</td>\n",
       "      <td>...</td>\n",
       "      <td>...</td>\n",
       "      <td>...</td>\n",
       "      <td>...</td>\n",
       "      <td>...</td>\n",
       "      <td>...</td>\n",
       "      <td>...</td>\n",
       "      <td>...</td>\n",
       "      <td>...</td>\n",
       "      <td>...</td>\n",
       "      <td>...</td>\n",
       "      <td>...</td>\n",
       "    </tr>\n",
       "    <tr>\n",
       "      <th>82504</th>\n",
       "      <td>1402460</td>\n",
       "      <td>Galliyara Restaurant</td>\n",
       "      <td>Casual Dining</td>\n",
       "      <td>https://www.zomato.com/indore/galliyara-restau...</td>\n",
       "      <td>Scheme 94, Plot ED 143, Sector D, Ring Road, V...</td>\n",
       "      <td>Indore</td>\n",
       "      <td>14</td>\n",
       "      <td>Khajrana</td>\n",
       "      <td>22.736165</td>\n",
       "      <td>75.902475</td>\n",
       "      <td>...</td>\n",
       "      <td>2</td>\n",
       "      <td>Rs.</td>\n",
       "      <td>['Lunch', 'Cash', 'Delivery', 'Credit Card', '...</td>\n",
       "      <td>3.8</td>\n",
       "      <td>Good</td>\n",
       "      <td>171</td>\n",
       "      <td>23</td>\n",
       "      <td>0.0</td>\n",
       "      <td>1</td>\n",
       "      <td>-1</td>\n",
       "    </tr>\n",
       "    <tr>\n",
       "      <th>82506</th>\n",
       "      <td>18717049</td>\n",
       "      <td>Tadka Laga</td>\n",
       "      <td>NA</td>\n",
       "      <td>https://www.zomato.com/indore/tadka-laga-vijay...</td>\n",
       "      <td>Shop 1975, Scheme 114, part 1, Niranjanpur Roa...</td>\n",
       "      <td>Indore</td>\n",
       "      <td>14</td>\n",
       "      <td>Vijay Nagar</td>\n",
       "      <td>22.771956</td>\n",
       "      <td>75.888286</td>\n",
       "      <td>...</td>\n",
       "      <td>2</td>\n",
       "      <td>Rs.</td>\n",
       "      <td>['Dinner', 'Cash', 'Takeaway Available', 'Deli...</td>\n",
       "      <td>3.6</td>\n",
       "      <td>Good</td>\n",
       "      <td>100</td>\n",
       "      <td>3</td>\n",
       "      <td>0.0</td>\n",
       "      <td>-1</td>\n",
       "      <td>-1</td>\n",
       "    </tr>\n",
       "    <tr>\n",
       "      <th>82537</th>\n",
       "      <td>18702710</td>\n",
       "      <td>The Urban Gumti</td>\n",
       "      <td>NA</td>\n",
       "      <td>https://www.zomato.com/indore/the-urban-gumti-...</td>\n",
       "      <td>312, Krishna Bagh Colony. Behind Barfani Dhaam...</td>\n",
       "      <td>Indore</td>\n",
       "      <td>14</td>\n",
       "      <td>Vijay Nagar</td>\n",
       "      <td>22.740677</td>\n",
       "      <td>75.897397</td>\n",
       "      <td>...</td>\n",
       "      <td>2</td>\n",
       "      <td>Rs.</td>\n",
       "      <td>['Cash', 'Debit Card', 'Takeaway Available', '...</td>\n",
       "      <td>3.5</td>\n",
       "      <td>Good</td>\n",
       "      <td>33</td>\n",
       "      <td>9</td>\n",
       "      <td>0.0</td>\n",
       "      <td>-1</td>\n",
       "      <td>-1</td>\n",
       "    </tr>\n",
       "    <tr>\n",
       "      <th>82565</th>\n",
       "      <td>1402107</td>\n",
       "      <td>Arora's Central Kitchen</td>\n",
       "      <td>NA</td>\n",
       "      <td>https://www.zomato.com/indore/aroras-central-k...</td>\n",
       "      <td>G-1, 108, Simran Regency,  Sarv Suvidha Nagar,...</td>\n",
       "      <td>Indore</td>\n",
       "      <td>14</td>\n",
       "      <td>By Pass Road (North)</td>\n",
       "      <td>22.717378</td>\n",
       "      <td>75.911992</td>\n",
       "      <td>...</td>\n",
       "      <td>2</td>\n",
       "      <td>Rs.</td>\n",
       "      <td>['Cash', 'Debit Card', 'Dinner', 'Delivery', '...</td>\n",
       "      <td>3.9</td>\n",
       "      <td>Good</td>\n",
       "      <td>217</td>\n",
       "      <td>27</td>\n",
       "      <td>0.0</td>\n",
       "      <td>-1</td>\n",
       "      <td>-1</td>\n",
       "    </tr>\n",
       "    <tr>\n",
       "      <th>82566</th>\n",
       "      <td>1400477</td>\n",
       "      <td>Neelkanth Restaurant</td>\n",
       "      <td>Quick Bites</td>\n",
       "      <td>https://www.zomato.com/indore/neelkanth-restau...</td>\n",
       "      <td>2/20, Kalyan Vishranti Grah, Near Railway Stat...</td>\n",
       "      <td>Indore</td>\n",
       "      <td>14</td>\n",
       "      <td>RNT Marg</td>\n",
       "      <td>22.717854</td>\n",
       "      <td>75.869648</td>\n",
       "      <td>...</td>\n",
       "      <td>2</td>\n",
       "      <td>Rs.</td>\n",
       "      <td>['Dinner', 'Cash', 'Takeaway Available', 'Cred...</td>\n",
       "      <td>3.7</td>\n",
       "      <td>Good</td>\n",
       "      <td>103</td>\n",
       "      <td>64</td>\n",
       "      <td>0.0</td>\n",
       "      <td>-1</td>\n",
       "      <td>-1</td>\n",
       "    </tr>\n",
       "  </tbody>\n",
       "</table>\n",
       "<p>1026 rows × 26 columns</p>\n",
       "</div>"
      ],
      "text/plain": [
       "         res_id                     name  establishment  \\\n",
       "79621  18625117            Namo Sandwich    Quick Bites   \n",
       "79622   1400096             Bake N Shake           Café   \n",
       "79623   1400382          Shree Gurukripa  Casual Dining   \n",
       "79624   1400056        Nafees Restaurant  Casual Dining   \n",
       "79625   1400365         Hotel Guru Kripa    Quick Bites   \n",
       "...         ...                      ...            ...   \n",
       "82504   1402460     Galliyara Restaurant  Casual Dining   \n",
       "82506  18717049               Tadka Laga             NA   \n",
       "82537  18702710          The Urban Gumti             NA   \n",
       "82565   1402107  Arora's Central Kitchen             NA   \n",
       "82566   1400477     Neelkanth Restaurant    Quick Bites   \n",
       "\n",
       "                                                     url  \\\n",
       "79621  https://www.zomato.com/indore/namo-sandwich-1-...   \n",
       "79622  https://www.zomato.com/indore/bake-n-shake-vij...   \n",
       "79623  https://www.zomato.com/indore/shree-gurukripa-...   \n",
       "79624  https://www.zomato.com/indore/nafees-restauran...   \n",
       "79625  https://www.zomato.com/indore/hotel-guru-kripa...   \n",
       "...                                                  ...   \n",
       "82504  https://www.zomato.com/indore/galliyara-restau...   \n",
       "82506  https://www.zomato.com/indore/tadka-laga-vijay...   \n",
       "82537  https://www.zomato.com/indore/the-urban-gumti-...   \n",
       "82565  https://www.zomato.com/indore/aroras-central-k...   \n",
       "82566  https://www.zomato.com/indore/neelkanth-restau...   \n",
       "\n",
       "                                                 address    city  city_id  \\\n",
       "79621  610, Narendra Tiwari Marg, Usha Nagar, Sudama ...  Indore       14   \n",
       "79622  Shop 3 & 4, Giriraj Grande, Satya Sai Square, ...  Indore       14   \n",
       "79623      13, Choti Gwaltoli, Sarwate Bus Stand, Indore  Indore       14   \n",
       "79624        30-B, Apollo Avenue, Opposite Palasia Thana  Indore       14   \n",
       "79625  Mahatma Gandhi Road, Murai Mohalla, Chhawni, S...  Indore       14   \n",
       "...                                                  ...     ...      ...   \n",
       "82504  Scheme 94, Plot ED 143, Sector D, Ring Road, V...  Indore       14   \n",
       "82506  Shop 1975, Scheme 114, part 1, Niranjanpur Roa...  Indore       14   \n",
       "82537  312, Krishna Bagh Colony. Behind Barfani Dhaam...  Indore       14   \n",
       "82565  G-1, 108, Simran Regency,  Sarv Suvidha Nagar,...  Indore       14   \n",
       "82566  2/20, Kalyan Vishranti Grah, Near Railway Stat...  Indore       14   \n",
       "\n",
       "                       locality   latitude  longitude  ... price_range  \\\n",
       "79621              Sudama Nagar  22.696331  75.834857  ...           2   \n",
       "79622  BCM Heights, Vijay Nagar  22.755705  75.895287  ...           2   \n",
       "79623         Sarwate Bus Stand  22.714090  75.868851  ...           2   \n",
       "79624               Old Palasia  22.725712  75.887757  ...           3   \n",
       "79625         Sarwate Bus Stand  22.714086  75.868846  ...           2   \n",
       "...                         ...        ...        ...  ...         ...   \n",
       "82504                  Khajrana  22.736165  75.902475  ...           2   \n",
       "82506               Vijay Nagar  22.771956  75.888286  ...           2   \n",
       "82537               Vijay Nagar  22.740677  75.897397  ...           2   \n",
       "82565      By Pass Road (North)  22.717378  75.911992  ...           2   \n",
       "82566                  RNT Marg  22.717854  75.869648  ...           2   \n",
       "\n",
       "       currency                                         highlights  \\\n",
       "79621       Rs.  ['Dinner', 'Cash', 'Takeaway Available', 'Cred...   \n",
       "79622       Rs.  ['Dinner', 'Mall Parking', 'Delivery', 'Credit...   \n",
       "79623       Rs.  ['Dinner', 'Cash', 'Debit Card', 'Lunch', 'Tak...   \n",
       "79624       Rs.  ['Credit Card', 'No Alcohol Available', 'Dinne...   \n",
       "79625       Rs.  ['Dinner', 'Cash', 'Breakfast', 'Lunch', 'Take...   \n",
       "...         ...                                                ...   \n",
       "82504       Rs.  ['Lunch', 'Cash', 'Delivery', 'Credit Card', '...   \n",
       "82506       Rs.  ['Dinner', 'Cash', 'Takeaway Available', 'Deli...   \n",
       "82537       Rs.  ['Cash', 'Debit Card', 'Takeaway Available', '...   \n",
       "82565       Rs.  ['Cash', 'Debit Card', 'Dinner', 'Delivery', '...   \n",
       "82566       Rs.  ['Dinner', 'Cash', 'Takeaway Available', 'Cred...   \n",
       "\n",
       "      aggregate_rating rating_text  votes  photo_count opentable_support  \\\n",
       "79621              4.3   Very Good    860          244               0.0   \n",
       "79622              4.2   Very Good    683          357               0.0   \n",
       "79623              4.3   Very Good   2030           72               0.0   \n",
       "79624              4.3   Very Good   2987          336               0.0   \n",
       "79625              4.3   Very Good   3441          151               0.0   \n",
       "...                ...         ...    ...          ...               ...   \n",
       "82504              3.8        Good    171           23               0.0   \n",
       "82506              3.6        Good    100            3               0.0   \n",
       "82537              3.5        Good     33            9               0.0   \n",
       "82565              3.9        Good    217           27               0.0   \n",
       "82566              3.7        Good    103           64               0.0   \n",
       "\n",
       "      delivery  takeaway  \n",
       "79621       -1        -1  \n",
       "79622       -1        -1  \n",
       "79623       -1        -1  \n",
       "79624       -1        -1  \n",
       "79625       -1        -1  \n",
       "...        ...       ...  \n",
       "82504        1        -1  \n",
       "82506       -1        -1  \n",
       "82537       -1        -1  \n",
       "82565       -1        -1  \n",
       "82566       -1        -1  \n",
       "\n",
       "[1026 rows x 26 columns]"
      ]
     },
     "execution_count": 22,
     "metadata": {},
     "output_type": "execute_result"
    }
   ],
   "source": [
    "df[df[\"city\"]==\"Indore\"]"
   ]
  },
  {
   "cell_type": "code",
   "execution_count": 23,
   "id": "22d22866",
   "metadata": {},
   "outputs": [
    {
     "data": {
      "text/html": [
       "<div>\n",
       "<style scoped>\n",
       "    .dataframe tbody tr th:only-of-type {\n",
       "        vertical-align: middle;\n",
       "    }\n",
       "\n",
       "    .dataframe tbody tr th {\n",
       "        vertical-align: top;\n",
       "    }\n",
       "\n",
       "    .dataframe thead th {\n",
       "        text-align: right;\n",
       "    }\n",
       "</style>\n",
       "<table border=\"1\" class=\"dataframe\">\n",
       "  <thead>\n",
       "    <tr style=\"text-align: right;\">\n",
       "      <th></th>\n",
       "      <th>res_id</th>\n",
       "      <th>name</th>\n",
       "      <th>establishment</th>\n",
       "      <th>url</th>\n",
       "      <th>address</th>\n",
       "      <th>city</th>\n",
       "      <th>city_id</th>\n",
       "      <th>locality</th>\n",
       "      <th>latitude</th>\n",
       "      <th>longitude</th>\n",
       "      <th>...</th>\n",
       "      <th>price_range</th>\n",
       "      <th>currency</th>\n",
       "      <th>highlights</th>\n",
       "      <th>aggregate_rating</th>\n",
       "      <th>rating_text</th>\n",
       "      <th>votes</th>\n",
       "      <th>photo_count</th>\n",
       "      <th>opentable_support</th>\n",
       "      <th>delivery</th>\n",
       "      <th>takeaway</th>\n",
       "    </tr>\n",
       "  </thead>\n",
       "  <tbody>\n",
       "    <tr>\n",
       "      <th>164447</th>\n",
       "      <td>11283</td>\n",
       "      <td>Harajuku - The O Hotel</td>\n",
       "      <td>Fine Dining</td>\n",
       "      <td>https://www.zomato.com/pune/harajuku-the-o-hot...</td>\n",
       "      <td>The O Hotel, North Main Road, Koregaon Park, Pune</td>\n",
       "      <td>Pune</td>\n",
       "      <td>5</td>\n",
       "      <td>The O Hotel, Koregaon Park</td>\n",
       "      <td>18.540239</td>\n",
       "      <td>73.887518</td>\n",
       "      <td>...</td>\n",
       "      <td>4</td>\n",
       "      <td>Rs.</td>\n",
       "      <td>['Cash', 'Debit Card', 'Lunch', 'Credit Card',...</td>\n",
       "      <td>3.7</td>\n",
       "      <td>Good</td>\n",
       "      <td>96</td>\n",
       "      <td>38</td>\n",
       "      <td>0.0</td>\n",
       "      <td>-1</td>\n",
       "      <td>-1</td>\n",
       "    </tr>\n",
       "    <tr>\n",
       "      <th>164448</th>\n",
       "      <td>10663</td>\n",
       "      <td>Mix@36 - The Westin</td>\n",
       "      <td>Lounge</td>\n",
       "      <td>https://www.zomato.com/pune/mix@36-the-westin-...</td>\n",
       "      <td>The Westin, Survey 36/3B, KP Annexe Mundhwa Ro...</td>\n",
       "      <td>Pune</td>\n",
       "      <td>5</td>\n",
       "      <td>The Westin, Mundhwa</td>\n",
       "      <td>18.540040</td>\n",
       "      <td>73.905910</td>\n",
       "      <td>...</td>\n",
       "      <td>4</td>\n",
       "      <td>Rs.</td>\n",
       "      <td>['Cash', 'Debit Card', 'Serves Alcohol', 'Take...</td>\n",
       "      <td>4.0</td>\n",
       "      <td>Very Good</td>\n",
       "      <td>682</td>\n",
       "      <td>78</td>\n",
       "      <td>0.0</td>\n",
       "      <td>-1</td>\n",
       "      <td>-1</td>\n",
       "    </tr>\n",
       "    <tr>\n",
       "      <th>164449</th>\n",
       "      <td>10743</td>\n",
       "      <td>Kangan - The Westin</td>\n",
       "      <td>Fine Dining</td>\n",
       "      <td>https://www.zomato.com/pune/kangan-the-westin-...</td>\n",
       "      <td>The Westin, 36/3B, KP Annexe, Mundhwa Road, Mu...</td>\n",
       "      <td>Pune</td>\n",
       "      <td>5</td>\n",
       "      <td>The Westin, Mundhwa</td>\n",
       "      <td>18.539455</td>\n",
       "      <td>73.906040</td>\n",
       "      <td>...</td>\n",
       "      <td>4</td>\n",
       "      <td>Rs.</td>\n",
       "      <td>['Serves Alcohol', 'Cash', 'Debit Card', 'Take...</td>\n",
       "      <td>4.0</td>\n",
       "      <td>Very Good</td>\n",
       "      <td>310</td>\n",
       "      <td>285</td>\n",
       "      <td>0.0</td>\n",
       "      <td>-1</td>\n",
       "      <td>-1</td>\n",
       "    </tr>\n",
       "    <tr>\n",
       "      <th>164450</th>\n",
       "      <td>18938162</td>\n",
       "      <td>Palette - The Westin</td>\n",
       "      <td>Fine Dining</td>\n",
       "      <td>https://www.zomato.com/pune/palette-the-westin...</td>\n",
       "      <td>The Westin, 36/3B, KP Annexe, Mundhwa Road, Mu...</td>\n",
       "      <td>Pune</td>\n",
       "      <td>5</td>\n",
       "      <td>The Westin, Mundhwa</td>\n",
       "      <td>18.539430</td>\n",
       "      <td>73.906009</td>\n",
       "      <td>...</td>\n",
       "      <td>4</td>\n",
       "      <td>Rs.</td>\n",
       "      <td>['Serves Alcohol', 'Credit Card', 'Lunch', 'Ca...</td>\n",
       "      <td>3.3</td>\n",
       "      <td>Average</td>\n",
       "      <td>9</td>\n",
       "      <td>31</td>\n",
       "      <td>0.0</td>\n",
       "      <td>-1</td>\n",
       "      <td>-1</td>\n",
       "    </tr>\n",
       "    <tr>\n",
       "      <th>164451</th>\n",
       "      <td>18310167</td>\n",
       "      <td>Coriander Kitchen - Conrad Pune</td>\n",
       "      <td>Fine Dining</td>\n",
       "      <td>https://www.zomato.com/pune/coriander-kitchen-...</td>\n",
       "      <td>Conrad, Mangaldas Road, Bund Garden Road, Pune</td>\n",
       "      <td>Pune</td>\n",
       "      <td>5</td>\n",
       "      <td>Conrad Pune, Bund Garden Road</td>\n",
       "      <td>18.535409</td>\n",
       "      <td>73.883592</td>\n",
       "      <td>...</td>\n",
       "      <td>4</td>\n",
       "      <td>Rs.</td>\n",
       "      <td>['Lunch', 'Serves Alcohol', 'Takeaway Availabl...</td>\n",
       "      <td>4.4</td>\n",
       "      <td>Very Good</td>\n",
       "      <td>500</td>\n",
       "      <td>1116</td>\n",
       "      <td>0.0</td>\n",
       "      <td>-1</td>\n",
       "      <td>-1</td>\n",
       "    </tr>\n",
       "    <tr>\n",
       "      <th>...</th>\n",
       "      <td>...</td>\n",
       "      <td>...</td>\n",
       "      <td>...</td>\n",
       "      <td>...</td>\n",
       "      <td>...</td>\n",
       "      <td>...</td>\n",
       "      <td>...</td>\n",
       "      <td>...</td>\n",
       "      <td>...</td>\n",
       "      <td>...</td>\n",
       "      <td>...</td>\n",
       "      <td>...</td>\n",
       "      <td>...</td>\n",
       "      <td>...</td>\n",
       "      <td>...</td>\n",
       "      <td>...</td>\n",
       "      <td>...</td>\n",
       "      <td>...</td>\n",
       "      <td>...</td>\n",
       "      <td>...</td>\n",
       "      <td>...</td>\n",
       "    </tr>\n",
       "    <tr>\n",
       "      <th>168657</th>\n",
       "      <td>6508050</td>\n",
       "      <td>Parsi Dhaba</td>\n",
       "      <td>Casual Dining</td>\n",
       "      <td>https://www.zomato.com/pune/parsi-dhaba-lonava...</td>\n",
       "      <td>Della Adventure &amp; Resorts, Kunegaon</td>\n",
       "      <td>Pune</td>\n",
       "      <td>5</td>\n",
       "      <td>Della Adventure Resort</td>\n",
       "      <td>18.781294</td>\n",
       "      <td>73.390452</td>\n",
       "      <td>...</td>\n",
       "      <td>3</td>\n",
       "      <td>Rs.</td>\n",
       "      <td>['Lunch', 'Serves Alcohol', 'Cash', 'Credit Ca...</td>\n",
       "      <td>4.3</td>\n",
       "      <td>Very Good</td>\n",
       "      <td>517</td>\n",
       "      <td>148</td>\n",
       "      <td>0.0</td>\n",
       "      <td>-1</td>\n",
       "      <td>-1</td>\n",
       "    </tr>\n",
       "    <tr>\n",
       "      <th>168658</th>\n",
       "      <td>13775</td>\n",
       "      <td>Sheetal Da Dhaba</td>\n",
       "      <td>Bar</td>\n",
       "      <td>https://www.zomato.com/pune/sheetal-da-dhaba-l...</td>\n",
       "      <td>Mumbai Pune Road, At Karla, Lonavala, Pune</td>\n",
       "      <td>Pune</td>\n",
       "      <td>5</td>\n",
       "      <td>Lonavala</td>\n",
       "      <td>18.761606</td>\n",
       "      <td>73.458489</td>\n",
       "      <td>...</td>\n",
       "      <td>3</td>\n",
       "      <td>Rs.</td>\n",
       "      <td>['Lunch', 'Serves Alcohol', 'Delivery', 'Debit...</td>\n",
       "      <td>3.8</td>\n",
       "      <td>Good</td>\n",
       "      <td>580</td>\n",
       "      <td>787</td>\n",
       "      <td>0.0</td>\n",
       "      <td>-1</td>\n",
       "      <td>-1</td>\n",
       "    </tr>\n",
       "    <tr>\n",
       "      <th>168659</th>\n",
       "      <td>13061</td>\n",
       "      <td>Lonavla Restaurant &amp; Bar- Hotel Lonavla</td>\n",
       "      <td>Casual Dining</td>\n",
       "      <td>https://www.zomato.com/pune/lonavla-restaurant...</td>\n",
       "      <td>Gawlinaka, Mumbai-Pune Highway, Lonavala, Pune</td>\n",
       "      <td>Pune</td>\n",
       "      <td>5</td>\n",
       "      <td>Lonavala</td>\n",
       "      <td>18.754747</td>\n",
       "      <td>73.405682</td>\n",
       "      <td>...</td>\n",
       "      <td>3</td>\n",
       "      <td>Rs.</td>\n",
       "      <td>['Dinner', 'Cash', 'Takeaway Available', 'Debi...</td>\n",
       "      <td>4.3</td>\n",
       "      <td>Very Good</td>\n",
       "      <td>474</td>\n",
       "      <td>81</td>\n",
       "      <td>0.0</td>\n",
       "      <td>-1</td>\n",
       "      <td>-1</td>\n",
       "    </tr>\n",
       "    <tr>\n",
       "      <th>168660</th>\n",
       "      <td>18555341</td>\n",
       "      <td>Utopia</td>\n",
       "      <td>Casual Dining</td>\n",
       "      <td>https://www.zomato.com/pune/utopia-lonavala?ut...</td>\n",
       "      <td>CTS 159, Old Mumbai-Pune Road, Lonavala, Pune</td>\n",
       "      <td>Pune</td>\n",
       "      <td>5</td>\n",
       "      <td>Lonavala</td>\n",
       "      <td>18.754342</td>\n",
       "      <td>73.402737</td>\n",
       "      <td>...</td>\n",
       "      <td>3</td>\n",
       "      <td>Rs.</td>\n",
       "      <td>['Dinner', 'Cash', 'Takeaway Available', 'Debi...</td>\n",
       "      <td>3.9</td>\n",
       "      <td>Good</td>\n",
       "      <td>336</td>\n",
       "      <td>204</td>\n",
       "      <td>0.0</td>\n",
       "      <td>-1</td>\n",
       "      <td>-1</td>\n",
       "    </tr>\n",
       "    <tr>\n",
       "      <th>168663</th>\n",
       "      <td>18711838</td>\n",
       "      <td>Lion's Dhaaba</td>\n",
       "      <td>Casual Dining</td>\n",
       "      <td>https://www.zomato.com/pune/lions-dhaaba-6-lon...</td>\n",
       "      <td>Besides Lion's Point, Ambey Valley, Atvan, Lon...</td>\n",
       "      <td>Pune</td>\n",
       "      <td>5</td>\n",
       "      <td>Lonavala</td>\n",
       "      <td>18.687172</td>\n",
       "      <td>73.393627</td>\n",
       "      <td>...</td>\n",
       "      <td>3</td>\n",
       "      <td>Rs.</td>\n",
       "      <td>['Lunch', 'Takeaway Available', 'Dinner', 'Cas...</td>\n",
       "      <td>3.9</td>\n",
       "      <td>Good</td>\n",
       "      <td>67</td>\n",
       "      <td>171</td>\n",
       "      <td>0.0</td>\n",
       "      <td>-1</td>\n",
       "      <td>-1</td>\n",
       "    </tr>\n",
       "  </tbody>\n",
       "</table>\n",
       "<p>1843 rows × 26 columns</p>\n",
       "</div>"
      ],
      "text/plain": [
       "          res_id                                     name  establishment  \\\n",
       "164447     11283                   Harajuku - The O Hotel    Fine Dining   \n",
       "164448     10663                      Mix@36 - The Westin         Lounge   \n",
       "164449     10743                      Kangan - The Westin    Fine Dining   \n",
       "164450  18938162                     Palette - The Westin    Fine Dining   \n",
       "164451  18310167          Coriander Kitchen - Conrad Pune    Fine Dining   \n",
       "...          ...                                      ...            ...   \n",
       "168657   6508050                              Parsi Dhaba  Casual Dining   \n",
       "168658     13775                         Sheetal Da Dhaba            Bar   \n",
       "168659     13061  Lonavla Restaurant & Bar- Hotel Lonavla  Casual Dining   \n",
       "168660  18555341                                   Utopia  Casual Dining   \n",
       "168663  18711838                            Lion's Dhaaba  Casual Dining   \n",
       "\n",
       "                                                      url  \\\n",
       "164447  https://www.zomato.com/pune/harajuku-the-o-hot...   \n",
       "164448  https://www.zomato.com/pune/mix@36-the-westin-...   \n",
       "164449  https://www.zomato.com/pune/kangan-the-westin-...   \n",
       "164450  https://www.zomato.com/pune/palette-the-westin...   \n",
       "164451  https://www.zomato.com/pune/coriander-kitchen-...   \n",
       "...                                                   ...   \n",
       "168657  https://www.zomato.com/pune/parsi-dhaba-lonava...   \n",
       "168658  https://www.zomato.com/pune/sheetal-da-dhaba-l...   \n",
       "168659  https://www.zomato.com/pune/lonavla-restaurant...   \n",
       "168660  https://www.zomato.com/pune/utopia-lonavala?ut...   \n",
       "168663  https://www.zomato.com/pune/lions-dhaaba-6-lon...   \n",
       "\n",
       "                                                  address  city  city_id  \\\n",
       "164447  The O Hotel, North Main Road, Koregaon Park, Pune  Pune        5   \n",
       "164448  The Westin, Survey 36/3B, KP Annexe Mundhwa Ro...  Pune        5   \n",
       "164449  The Westin, 36/3B, KP Annexe, Mundhwa Road, Mu...  Pune        5   \n",
       "164450  The Westin, 36/3B, KP Annexe, Mundhwa Road, Mu...  Pune        5   \n",
       "164451     Conrad, Mangaldas Road, Bund Garden Road, Pune  Pune        5   \n",
       "...                                                   ...   ...      ...   \n",
       "168657                Della Adventure & Resorts, Kunegaon  Pune        5   \n",
       "168658         Mumbai Pune Road, At Karla, Lonavala, Pune  Pune        5   \n",
       "168659     Gawlinaka, Mumbai-Pune Highway, Lonavala, Pune  Pune        5   \n",
       "168660      CTS 159, Old Mumbai-Pune Road, Lonavala, Pune  Pune        5   \n",
       "168663  Besides Lion's Point, Ambey Valley, Atvan, Lon...  Pune        5   \n",
       "\n",
       "                             locality   latitude  longitude  ... price_range  \\\n",
       "164447     The O Hotel, Koregaon Park  18.540239  73.887518  ...           4   \n",
       "164448            The Westin, Mundhwa  18.540040  73.905910  ...           4   \n",
       "164449            The Westin, Mundhwa  18.539455  73.906040  ...           4   \n",
       "164450            The Westin, Mundhwa  18.539430  73.906009  ...           4   \n",
       "164451  Conrad Pune, Bund Garden Road  18.535409  73.883592  ...           4   \n",
       "...                               ...        ...        ...  ...         ...   \n",
       "168657         Della Adventure Resort  18.781294  73.390452  ...           3   \n",
       "168658                       Lonavala  18.761606  73.458489  ...           3   \n",
       "168659                       Lonavala  18.754747  73.405682  ...           3   \n",
       "168660                       Lonavala  18.754342  73.402737  ...           3   \n",
       "168663                       Lonavala  18.687172  73.393627  ...           3   \n",
       "\n",
       "        currency                                         highlights  \\\n",
       "164447       Rs.  ['Cash', 'Debit Card', 'Lunch', 'Credit Card',...   \n",
       "164448       Rs.  ['Cash', 'Debit Card', 'Serves Alcohol', 'Take...   \n",
       "164449       Rs.  ['Serves Alcohol', 'Cash', 'Debit Card', 'Take...   \n",
       "164450       Rs.  ['Serves Alcohol', 'Credit Card', 'Lunch', 'Ca...   \n",
       "164451       Rs.  ['Lunch', 'Serves Alcohol', 'Takeaway Availabl...   \n",
       "...          ...                                                ...   \n",
       "168657       Rs.  ['Lunch', 'Serves Alcohol', 'Cash', 'Credit Ca...   \n",
       "168658       Rs.  ['Lunch', 'Serves Alcohol', 'Delivery', 'Debit...   \n",
       "168659       Rs.  ['Dinner', 'Cash', 'Takeaway Available', 'Debi...   \n",
       "168660       Rs.  ['Dinner', 'Cash', 'Takeaway Available', 'Debi...   \n",
       "168663       Rs.  ['Lunch', 'Takeaway Available', 'Dinner', 'Cas...   \n",
       "\n",
       "       aggregate_rating rating_text  votes  photo_count opentable_support  \\\n",
       "164447              3.7        Good     96           38               0.0   \n",
       "164448              4.0   Very Good    682           78               0.0   \n",
       "164449              4.0   Very Good    310          285               0.0   \n",
       "164450              3.3     Average      9           31               0.0   \n",
       "164451              4.4   Very Good    500         1116               0.0   \n",
       "...                 ...         ...    ...          ...               ...   \n",
       "168657              4.3   Very Good    517          148               0.0   \n",
       "168658              3.8        Good    580          787               0.0   \n",
       "168659              4.3   Very Good    474           81               0.0   \n",
       "168660              3.9        Good    336          204               0.0   \n",
       "168663              3.9        Good     67          171               0.0   \n",
       "\n",
       "       delivery  takeaway  \n",
       "164447       -1        -1  \n",
       "164448       -1        -1  \n",
       "164449       -1        -1  \n",
       "164450       -1        -1  \n",
       "164451       -1        -1  \n",
       "...         ...       ...  \n",
       "168657       -1        -1  \n",
       "168658       -1        -1  \n",
       "168659       -1        -1  \n",
       "168660       -1        -1  \n",
       "168663       -1        -1  \n",
       "\n",
       "[1843 rows x 26 columns]"
      ]
     },
     "execution_count": 23,
     "metadata": {},
     "output_type": "execute_result"
    }
   ],
   "source": [
    "df[df[\"city\"]==\"Pune\"]"
   ]
  },
  {
   "cell_type": "code",
   "execution_count": 24,
   "id": "240ac1be",
   "metadata": {},
   "outputs": [
    {
     "data": {
      "text/plain": [
       "3731"
      ]
     },
     "execution_count": 24,
     "metadata": {},
     "output_type": "execute_result"
    }
   ],
   "source": [
    "df[\"locality\"].nunique()"
   ]
  },
  {
   "cell_type": "code",
   "execution_count": 25,
   "id": "4f4f210c",
   "metadata": {},
   "outputs": [
    {
     "data": {
      "text/plain": [
       "array([1], dtype=int64)"
      ]
     },
     "execution_count": 25,
     "metadata": {},
     "output_type": "execute_result"
    }
   ],
   "source": [
    "df[\"country_id\"].unique()"
   ]
  },
  {
   "cell_type": "code",
   "execution_count": 26,
   "id": "0d51c9d3",
   "metadata": {},
   "outputs": [
    {
     "data": {
      "text/plain": [
       "3910"
      ]
     },
     "execution_count": 26,
     "metadata": {},
     "output_type": "execute_result"
    }
   ],
   "source": [
    "df[\"locality_verbose\"].nunique()"
   ]
  },
  {
   "cell_type": "code",
   "execution_count": 27,
   "id": "b0901b2c",
   "metadata": {},
   "outputs": [
    {
     "name": "stdout",
     "output_type": "stream",
     "text": [
      "9382\n",
      "['North Indian, South Indian, Mithai, Street Food, Desserts'\n",
      " 'North Indian, Mughlai, Rolls, Chinese, Fast Food, Street Food'\n",
      " 'Fast Food, Mithai' ...\n",
      " 'Street Food, Biryani, Chinese, Fast Food, North Indian, Mughlai'\n",
      " 'North Indian, Chinese, Mexican, Italian, Thai, Continental'\n",
      " 'North Indian, Lucknowi, Chinese']\n"
     ]
    }
   ],
   "source": [
    "print(df[\"cuisines\"].nunique())\n",
    "print(df[\"cuisines\"].unique())"
   ]
  },
  {
   "cell_type": "code",
   "execution_count": 28,
   "id": "d6109e02",
   "metadata": {},
   "outputs": [],
   "source": [
    "df[\"cuisines\"] = df[\"cuisines\"].fillna(\"No cuisine\")"
   ]
  },
  {
   "cell_type": "code",
   "execution_count": 29,
   "id": "f29e7bd7",
   "metadata": {},
   "outputs": [
    {
     "name": "stdout",
     "output_type": "stream",
     "text": [
      "Total number of unique cuisines =  134\n"
     ]
    }
   ],
   "source": [
    "cuisines = []\n",
    "df[\"cuisines\"].apply(lambda x : cuisines.extend(x.split(\", \")))\n",
    "cuisines = pd.Series(cuisines)\n",
    "print(\"Total number of unique cuisines = \", cuisines.nunique())"
   ]
  },
  {
   "cell_type": "code",
   "execution_count": 30,
   "id": "0d8ab260",
   "metadata": {},
   "outputs": [
    {
     "data": {
      "text/plain": [
       "145"
      ]
     },
     "execution_count": 30,
     "metadata": {},
     "output_type": "execute_result"
    }
   ],
   "source": [
    "df[\"average_cost_for_two\"].nunique()"
   ]
  },
  {
   "cell_type": "code",
   "execution_count": 31,
   "id": "5699c066",
   "metadata": {},
   "outputs": [
    {
     "data": {
      "text/plain": [
       "array([2, 1, 3, 4], dtype=int64)"
      ]
     },
     "execution_count": 31,
     "metadata": {},
     "output_type": "execute_result"
    }
   ],
   "source": [
    "df[\"price_range\"].unique()"
   ]
  },
  {
   "cell_type": "code",
   "execution_count": 32,
   "id": "6f1d18c8",
   "metadata": {},
   "outputs": [
    {
     "name": "stdout",
     "output_type": "stream",
     "text": [
      "31228\n",
      "[\"['Lunch', 'Takeaway Available', 'Credit Card', 'Dinner', 'Cash', 'Air Conditioned', 'Indoor Seating', 'Pure Veg']\"\n",
      " \"['Delivery', 'No Alcohol Available', 'Dinner', 'Takeaway Available', 'Lunch', 'Cash', 'Indoor Seating']\"\n",
      " \"['No Alcohol Available', 'Dinner', 'Takeaway Available', 'Breakfast', 'Lunch', 'Cash', 'Delivery', 'Outdoor Seating', 'Air Conditioned', 'Self Service', 'Indoor Seating', 'Digital Payments Accepted', 'Pure Veg', 'Desserts and Bakes']\"\n",
      " ...\n",
      " \"['Dinner', 'Delivery', 'Cash', 'Takeaway Available', 'Free Parking', 'Digital Payments Accepted', 'Pure Veg', 'Indoor Seating']\"\n",
      " \"['Dinner', 'Cash', 'Takeaway Available', 'Lunch', 'Delivery', 'Free Parking', 'Indoor Seating', 'Air Conditioned', 'Outdoor Seating', 'Digital Payments Accepted', 'Catering Available', 'Pure Veg']\"\n",
      " \"['Dinner', 'Cash', 'Takeaway Available', 'Debit Card', 'Delivery', 'Credit Card', 'Free Parking', 'Outdoor Seating']\"]\n"
     ]
    }
   ],
   "source": [
    "print(df[\"highlights\"].nunique())\n",
    "print(df[\"highlights\"].unique())"
   ]
  },
  {
   "cell_type": "code",
   "execution_count": 33,
   "id": "b4526466",
   "metadata": {},
   "outputs": [
    {
     "name": "stdout",
     "output_type": "stream",
     "text": [
      "Total number of unique highlights =  104\n"
     ]
    }
   ],
   "source": [
    "hl = []\n",
    "df[\"highlights\"].apply(lambda x : hl.extend(x[2:-2].split(\"', '\")))\n",
    "hl = pd.Series(hl)\n",
    "print(\"Total number of unique highlights = \", hl.nunique())"
   ]
  },
  {
   "cell_type": "code",
   "execution_count": 34,
   "id": "03263728",
   "metadata": {},
   "outputs": [
    {
     "data": {
      "text/html": [
       "<div>\n",
       "<style scoped>\n",
       "    .dataframe tbody tr th:only-of-type {\n",
       "        vertical-align: middle;\n",
       "    }\n",
       "\n",
       "    .dataframe tbody tr th {\n",
       "        vertical-align: top;\n",
       "    }\n",
       "\n",
       "    .dataframe thead th {\n",
       "        text-align: right;\n",
       "    }\n",
       "</style>\n",
       "<table border=\"1\" class=\"dataframe\">\n",
       "  <thead>\n",
       "    <tr style=\"text-align: right;\">\n",
       "      <th></th>\n",
       "      <th>aggregate_rating</th>\n",
       "      <th>votes</th>\n",
       "      <th>photo_count</th>\n",
       "    </tr>\n",
       "  </thead>\n",
       "  <tbody>\n",
       "    <tr>\n",
       "      <th>mean</th>\n",
       "      <td>2.958593</td>\n",
       "      <td>223.330352</td>\n",
       "      <td>160.97477</td>\n",
       "    </tr>\n",
       "    <tr>\n",
       "      <th>min</th>\n",
       "      <td>0.000000</td>\n",
       "      <td>-18.000000</td>\n",
       "      <td>0.00000</td>\n",
       "    </tr>\n",
       "    <tr>\n",
       "      <th>max</th>\n",
       "      <td>4.900000</td>\n",
       "      <td>42539.000000</td>\n",
       "      <td>17702.00000</td>\n",
       "    </tr>\n",
       "  </tbody>\n",
       "</table>\n",
       "</div>"
      ],
      "text/plain": [
       "      aggregate_rating         votes  photo_count\n",
       "mean          2.958593    223.330352    160.97477\n",
       "min           0.000000    -18.000000      0.00000\n",
       "max           4.900000  42539.000000  17702.00000"
      ]
     },
     "execution_count": 34,
     "metadata": {},
     "output_type": "execute_result"
    }
   ],
   "source": [
    "df[[\"aggregate_rating\",\"votes\",\"photo_count\"]].describe().loc[[\"mean\",\"min\",\"max\"]]"
   ]
  },
  {
   "cell_type": "code",
   "execution_count": 35,
   "id": "d216e014",
   "metadata": {},
   "outputs": [
    {
     "data": {
      "text/plain": [
       "array([ 0., nan])"
      ]
     },
     "execution_count": 35,
     "metadata": {},
     "output_type": "execute_result"
    }
   ],
   "source": [
    "df[\"opentable_support\"].unique()"
   ]
  },
  {
   "cell_type": "code",
   "execution_count": 36,
   "id": "c00b302e",
   "metadata": {
    "scrolled": true
   },
   "outputs": [
    {
     "data": {
      "text/plain": [
       "array([-1,  1,  0], dtype=int64)"
      ]
     },
     "execution_count": 36,
     "metadata": {},
     "output_type": "execute_result"
    }
   ],
   "source": [
    "df[\"delivery\"].unique()"
   ]
  },
  {
   "cell_type": "code",
   "execution_count": 37,
   "id": "0cdee1fa",
   "metadata": {},
   "outputs": [
    {
     "data": {
      "text/plain": [
       "array([-1], dtype=int64)"
      ]
     },
     "execution_count": 37,
     "metadata": {},
     "output_type": "execute_result"
    }
   ],
   "source": [
    "df[\"takeaway\"].unique()"
   ]
  },
  {
   "cell_type": "code",
   "execution_count": 38,
   "id": "7c4032e1",
   "metadata": {},
   "outputs": [
    {
     "data": {
      "text/plain": [
       "res_id                      0\n",
       "name                        0\n",
       "establishment               0\n",
       "url                         0\n",
       "address                    18\n",
       "city                        0\n",
       "city_id                     0\n",
       "locality                    0\n",
       "latitude                    0\n",
       "longitude                   0\n",
       "zipcode                 44623\n",
       "country_id                  0\n",
       "locality_verbose            0\n",
       "cuisines                    0\n",
       "timings                  1003\n",
       "average_cost_for_two        0\n",
       "price_range                 0\n",
       "currency                    0\n",
       "highlights                  0\n",
       "aggregate_rating            0\n",
       "rating_text                 0\n",
       "votes                       0\n",
       "photo_count                 0\n",
       "opentable_support          12\n",
       "delivery                    0\n",
       "takeaway                    0\n",
       "dtype: int64"
      ]
     },
     "execution_count": 38,
     "metadata": {},
     "output_type": "execute_result"
    }
   ],
   "source": [
    "df.isnull().sum()"
   ]
  },
  {
   "cell_type": "code",
   "execution_count": 39,
   "id": "507f6cfe",
   "metadata": {},
   "outputs": [],
   "source": [
    "# Drop multiple columns\n",
    "columns_to_drop = [\"url\",\"address\", \"zipcode\",\"latitude\",\"longitude\",\"country_id\",\"timings\",\"opentable_support\",\"delivery\",\"takeaway\"]\n",
    "df.drop(columns_to_drop, axis=1, inplace=True)"
   ]
  },
  {
   "cell_type": "code",
   "execution_count": 40,
   "id": "a6ee9a2e",
   "metadata": {},
   "outputs": [
    {
     "data": {
      "text/plain": [
       "res_id                  0\n",
       "name                    0\n",
       "establishment           0\n",
       "city                    0\n",
       "city_id                 0\n",
       "locality                0\n",
       "locality_verbose        0\n",
       "cuisines                0\n",
       "average_cost_for_two    0\n",
       "price_range             0\n",
       "currency                0\n",
       "highlights              0\n",
       "aggregate_rating        0\n",
       "rating_text             0\n",
       "votes                   0\n",
       "photo_count             0\n",
       "dtype: int64"
      ]
     },
     "execution_count": 40,
     "metadata": {},
     "output_type": "execute_result"
    }
   ],
   "source": [
    "df.isnull().sum()"
   ]
  },
  {
   "cell_type": "markdown",
   "id": "82a5d6a1",
   "metadata": {},
   "source": [
    "### Restaurant chains\n",
    "Here chains represent restaurants with more than one outlet\n",
    "\n",
    "Chains vs Outlets"
   ]
  },
  {
   "cell_type": "code",
   "execution_count": 41,
   "id": "bcfd276b",
   "metadata": {},
   "outputs": [],
   "source": [
    "outlets = df[\"name\"].value_counts()"
   ]
  },
  {
   "cell_type": "code",
   "execution_count": 42,
   "id": "8370e951",
   "metadata": {},
   "outputs": [
    {
     "data": {
      "text/plain": [
       "Domino's Pizza                           399\n",
       "Cafe Coffee Day                          315\n",
       "KFC                                      204\n",
       "Baskin Robbins                           202\n",
       "Keventers                                189\n",
       "                                        ... \n",
       "Boulevard 69                               1\n",
       "7-Eleven Restaurant                        1\n",
       "Food station                               1\n",
       "Silver Saloon - Taj Usha Kiran Palace      1\n",
       "Geeta lodge                                1\n",
       "Name: name, Length: 41100, dtype: int64"
      ]
     },
     "execution_count": 42,
     "metadata": {},
     "output_type": "execute_result"
    }
   ],
   "source": [
    "outlets"
   ]
  },
  {
   "cell_type": "code",
   "execution_count": 43,
   "id": "b7e2dfb2",
   "metadata": {},
   "outputs": [],
   "source": [
    "chains = outlets[outlets >= 2]\n",
    "single = outlets[outlets == 1]"
   ]
  },
  {
   "cell_type": "code",
   "execution_count": 44,
   "id": "72ad9381",
   "metadata": {},
   "outputs": [
    {
     "data": {
      "text/plain": [
       "(55568, 16)"
      ]
     },
     "execution_count": 44,
     "metadata": {},
     "output_type": "execute_result"
    }
   ],
   "source": [
    "df.shape"
   ]
  },
  {
   "cell_type": "code",
   "execution_count": 45,
   "id": "737e4548",
   "metadata": {},
   "outputs": [
    {
     "data": {
      "text/plain": [
       "Domino's Pizza              399\n",
       "Cafe Coffee Day             315\n",
       "KFC                         204\n",
       "Baskin Robbins              202\n",
       "Keventers                   189\n",
       "                           ... \n",
       "Santoor Restaurant            2\n",
       "The Ice House                 2\n",
       "Zaatar Arabic Restaurant      2\n",
       "Ashok & Ashok Meat Dhaba      2\n",
       "Hotel Tara                    2\n",
       "Name: name, Length: 4890, dtype: int64"
      ]
     },
     "execution_count": 45,
     "metadata": {},
     "output_type": "execute_result"
    }
   ],
   "source": [
    "chains"
   ]
  },
  {
   "cell_type": "code",
   "execution_count": 46,
   "id": "392d1f8b",
   "metadata": {},
   "outputs": [
    {
     "name": "stdout",
     "output_type": "stream",
     "text": [
      "Total Restaurants =  55568\n",
      "Total Restaurants that are part of some chain =  19358\n",
      "Percentage of Restaurants that are part of a chain =  35.0 %\n"
     ]
    }
   ],
   "source": [
    "print(\"Total Restaurants = \", df.shape[0])\n",
    "print(\"Total Restaurants that are part of some chain = \", df.shape[0] - single.shape[0])\n",
    "print(\"Percentage of Restaurants that are part of a chain = \", np.round((df.shape[0] - single.shape[0]) / df.shape[0],2)*100, \"%\")"
   ]
  },
  {
   "cell_type": "code",
   "execution_count": 47,
   "id": "2fc44e4e",
   "metadata": {},
   "outputs": [
    {
     "data": {
      "text/plain": [
       "Domino's Pizza     399\n",
       "Cafe Coffee Day    315\n",
       "KFC                204\n",
       "Baskin Robbins     202\n",
       "Keventers          189\n",
       "Subway             178\n",
       "McDonald's         130\n",
       "Pizza Hut          125\n",
       "Barbeque Nation    112\n",
       "Burger King        110\n",
       "Name: name, dtype: int64"
      ]
     },
     "execution_count": 47,
     "metadata": {},
     "output_type": "execute_result"
    }
   ],
   "source": [
    "chains.head(10)"
   ]
  },
  {
   "cell_type": "code",
   "execution_count": 48,
   "id": "943df282",
   "metadata": {},
   "outputs": [],
   "source": [
    "\n",
    "top10_chains = df[\"name\"].value_counts()[:10].sort_values(ascending=True)"
   ]
  },
  {
   "cell_type": "code",
   "execution_count": 49,
   "id": "f566ecff",
   "metadata": {},
   "outputs": [
    {
     "data": {
      "image/png": "[encoded data removed]",
      "text/plain": [
       "<Figure size 1100x700 with 1 Axes>"
      ]
     },
     "metadata": {},
     "output_type": "display_data"
    }
   ],
   "source": [
    "import matplotlib.pyplot as plt\n",
    "import numpy as np\n",
    "\n",
    "height = top10_chains.values\n",
    "bars = top10_chains.index\n",
    "y_pos = np.arange(len(bars))\n",
    "\n",
    "fig = plt.figure(figsize=[11, 7], frameon=False)\n",
    "ax = fig.gca()\n",
    "ax.spines[\"top\"].set_visible(False)\n",
    "ax.spines[\"right\"].set_visible(False)\n",
    "ax.spines[\"left\"].set_color(\"#424242\")\n",
    "ax.spines[\"bottom\"].set_color(\"#424242\")\n",
    "\n",
    "# Use different shades of green for the bars\n",
    "colors = [\"#a5e6a7\", \"#81c784\", \"#66bb6a\", \"#4caf50\", \"#43a047\", \"#388e3c\", \"#2e7d32\", \"#1b5e20\", \"#145214\", \"#0d3b0d\"]\n",
    "\n",
    "plt.barh(y_pos, height, color=colors)\n",
    "\n",
    "plt.xticks(color=\"#424242\")\n",
    "\n",
    "plt.yticks(y_pos, bars, color=\"#424242\")\n",
    "plt.xlabel(\"Number of outlets in India\")\n",
    "\n",
    "for i, v in enumerate(height):\n",
    "    ax.text(v + 3, i, str(v), color='#424242')\n",
    "\n",
    "plt.title(\"Top 10 Restaurant chain in India (by number of outlets)\")\n",
    "\n",
    "plt.show()\n"
   ]
  },
  {
   "cell_type": "markdown",
   "id": "99017f60",
   "metadata": {},
   "source": [
    "This chart is majorly dominaed by big fast food chains\n",
    "\n",
    "Top restaurant chains (by average rating)\n",
    "Here we will look at top chains by their ratings. I have set the criteria of number of outlets to greater than 4 to remove some outliers."
   ]
  },
  {
   "cell_type": "code",
   "execution_count": 50,
   "id": "150d1c55",
   "metadata": {
    "scrolled": true
   },
   "outputs": [],
   "source": [
    "outlets = df[\"name\"].value_counts()\n"
   ]
  },
  {
   "cell_type": "code",
   "execution_count": 51,
   "id": "c3942bbb",
   "metadata": {},
   "outputs": [],
   "source": [
    "atleast_5_outlets = outlets[outlets > 4]\n"
   ]
  },
  {
   "cell_type": "code",
   "execution_count": 52,
   "id": "17b80430",
   "metadata": {},
   "outputs": [],
   "source": [
    "top10_chains2 = df[df[\"name\"].isin(atleast_5_outlets.index)].groupby(\"name\").mean(numeric_only=True)[\"aggregate_rating\"].sort_values(ascending=False)[:10].sort_values(ascending=True)"
   ]
  },
  {
   "cell_type": "code",
   "execution_count": 53,
   "id": "93aceb86",
   "metadata": {},
   "outputs": [
    {
     "data": {
      "image/png": "[encoded data removed]",
      "text/plain": [
       "<Figure size 1100x700 with 1 Axes>"
      ]
     },
     "metadata": {},
     "output_type": "display_data"
    }
   ],
   "source": [
    "height = pd.Series(top10_chains2.values).map(lambda x : np.round(x, 2))\n",
    "bars = top10_chains2.index\n",
    "y_pos = np.arange(len(bars))\n",
    "\n",
    "fig = plt.figure(figsize=[11,7], frameon=False)\n",
    "ax = fig.gca()\n",
    "ax.spines[\"top\"].set_visible(\"#424242\")\n",
    "ax.spines[\"right\"].set_visible(False)\n",
    "ax.spines[\"left\"].set_color(\"#424242\")\n",
    "ax.spines[\"bottom\"].set_color(\"#424242\")\n",
    "\n",
    "#colors = [\"green\",\"blue\",\"magenta\",\"cyan\",\"gray\",\"yellow\",\"purple\",\"violet\",\"orange\",\"red\",\"maroon\"]\n",
    "#random.shuffle(colors)\n",
    "colors = ['#fded86', '#fce36b', '#f7c65d', '#f1a84f', '#ec8c41', '#e76f34', '#e25328', '#b04829', '#7e3e2b', '#4c3430']\n",
    "plt.barh(y_pos, height, color=colors)\n",
    "\n",
    "plt.xlim(3)\n",
    "plt.xticks(color=\"#424242\")\n",
    "plt.yticks(y_pos, bars, color=\"#424242\")\n",
    "plt.xlabel(\"Number of outlets in India\")\n",
    "\n",
    "for i, v in enumerate(height):\n",
    "    ax.text(v + 0.01, i, str(v), color='#424242')\n",
    "plt.title(\"Top 10 Restaurant chain in India (by average Rating)\")\n",
    "\n",
    "\n",
    "plt.show()"
   ]
  },
  {
   "cell_type": "markdown",
   "id": "05cf8b72",
   "metadata": {},
   "source": [
    "Interestingly, no fast food chain appears in this chart. To maintain a high rating, restaurants needs to provide superior service which becomes impossible with booming fast food restaurant in every street."
   ]
  },
  {
   "cell_type": "markdown",
   "id": "b213610c",
   "metadata": {},
   "source": [
    "### Establishment Types\n",
    "Number of restaurants (by establishment type)"
   ]
  },
  {
   "cell_type": "code",
   "execution_count": 54,
   "id": "375db03c",
   "metadata": {},
   "outputs": [
    {
     "data": {
      "image/png": "[encoded data removed]",
      "text/plain": [
       "<Figure size 800x500 with 1 Axes>"
      ]
     },
     "metadata": {},
     "output_type": "display_data"
    }
   ],
   "source": [
    "est_count = df.groupby(\"establishment\").count()[\"res_id\"].sort_values(ascending=False)[:5]\n",
    "\n",
    "fig = plt.figure(figsize=[8,5], frameon=False)\n",
    "ax = fig.gca()\n",
    "ax.spines[\"top\"].set_visible(False)\n",
    "ax.spines[\"right\"].set_visible(False)\n",
    "ax.spines[\"left\"].set_color(\"#424242\")\n",
    "ax.spines[\"bottom\"].set_color(\"#424242\")\n",
    "\n",
    "#colors = [\"green\",\"blue\",\"magenta\",\"cyan\",\"gray\",\"yellow\",\"purple\",\"violet\",\"orange\",\"red\",\"maroon\"]\n",
    "#random.shuffle(colors)\n",
    "colors = [\"#f39c12\", '#3498db', \"#27ae60\", \"#e74c3c\", \"#9b59b6\"]\n",
    "plt.bar(est_count.index, est_count.values, color=colors)\n",
    "\n",
    "plt.xticks(range(0, 6), color=\"#424242\")\n",
    "plt.yticks(range(0, 25000, 5000), color=\"#424242\")\n",
    "plt.xlabel(\"Top 5 establishment types\")\n",
    "\n",
    "for i, v in enumerate(est_count):\n",
    "    ax.text(i-0.2, v+500, str(v), color='#424242')\n",
    "plt.title(\"Number of restaurants (by establishment type)\")\n",
    "\n",
    "\n",
    "plt.show()"
   ]
  },
  {
   "cell_type": "code",
   "execution_count": 55,
   "id": "39f9f726",
   "metadata": {},
   "outputs": [
    {
     "data": {
      "text/plain": [
       "establishment\n",
       "Microbrewery     4.268182\n",
       "Pub              3.758263\n",
       "Cocktail Bar     3.531250\n",
       "Fine Dining      3.436547\n",
       "Lounge           3.436463\n",
       "Club             3.378571\n",
       "Irani Cafe       3.321429\n",
       "Casual Dining    3.238680\n",
       "Café             3.212345\n",
       "Butcher Shop     3.110390\n",
       "Name: aggregate_rating, dtype: float64"
      ]
     },
     "execution_count": 55,
     "metadata": {},
     "output_type": "execute_result"
    }
   ],
   "source": [
    "rating_by_est = df.groupby(\"establishment\").mean(numeric_only=True)[\"aggregate_rating\"].sort_values(ascending=False)[:10]\n",
    "rating_by_est"
   ]
  },
  {
   "cell_type": "code",
   "execution_count": 56,
   "id": "729e03c3",
   "metadata": {},
   "outputs": [],
   "source": [
    "# To check the number of outlets in each of the above establishment type, uncomment to following code\n",
    "\n",
    "#est_count = df.groupby(\"establishment\").count()[\"name\"].sort_values(ascending=False)\n",
    "#rating_by_est_map = est_count.index.isin(rating_by_est.index)\n",
    "#est_count = est_count[rating_by_est_map][rating_by_est.index]\n",
    "#est_count"
   ]
  },
  {
   "cell_type": "code",
   "execution_count": 57,
   "id": "7e2790f2",
   "metadata": {},
   "outputs": [
    {
     "data": {
      "text/plain": [
       "establishment\n",
       "Microbrewery     1992.300000\n",
       "Pub               880.274510\n",
       "Bar               500.613295\n",
       "Lounge            494.509756\n",
       "Casual Dining     396.339935\n",
       "Cocktail Bar      309.625000\n",
       "Club              300.544643\n",
       "Fine Dining       293.126384\n",
       "Café              276.558574\n",
       "Irani Cafe        178.714286\n",
       "Name: votes, dtype: float64"
      ]
     },
     "execution_count": 57,
     "metadata": {},
     "output_type": "execute_result"
    }
   ],
   "source": [
    "df.groupby(\"establishment\").mean(numeric_only=True)[\"votes\"].sort_values(ascending=False)[:10]"
   ]
  },
  {
   "cell_type": "code",
   "execution_count": 58,
   "id": "c672d833",
   "metadata": {},
   "outputs": [
    {
     "data": {
      "text/plain": [
       "establishment\n",
       "Microbrewery     2042.054545\n",
       "Pub               652.955182\n",
       "Cocktail Bar      555.625000\n",
       "Lounge            514.687805\n",
       "Bar               513.321658\n",
       "Fine Dining       364.817590\n",
       "Café              331.935969\n",
       "Casual Dining     291.550448\n",
       "Irani Cafe        173.000000\n",
       "Club              107.089286\n",
       "Name: photo_count, dtype: float64"
      ]
     },
     "execution_count": 58,
     "metadata": {},
     "output_type": "execute_result"
    }
   ],
   "source": [
    "df.groupby(\"establishment\").mean(numeric_only=True)[\"photo_count\"].sort_values(ascending=False)[:10]"
   ]
  },
  {
   "cell_type": "code",
   "execution_count": 59,
   "id": "fb9b804e",
   "metadata": {},
   "outputs": [
    {
     "data": {
      "image/png": "[encoded data removed]",
      "text/plain": [
       "<Figure size 1100x700 with 1 Axes>"
      ]
     },
     "metadata": {},
     "output_type": "display_data"
    }
   ],
   "source": [
    "city_counts = df.groupby(\"city\").count()[\"res_id\"].sort_values(ascending=True)[-10:]\n",
    "\n",
    "height = pd.Series(city_counts.values)\n",
    "bars = city_counts.index\n",
    "y_pos = np.arange(len(bars))\n",
    "\n",
    "fig = plt.figure(figsize=[11,7], frameon=False)\n",
    "ax = fig.gca()\n",
    "ax.spines[\"top\"].set_visible(\"#424242\")\n",
    "ax.spines[\"right\"].set_visible(False)\n",
    "ax.spines[\"left\"].set_color(\"#424242\")\n",
    "ax.spines[\"bottom\"].set_color(\"#424242\")\n",
    "\n",
    "#colors = [\"green\",\"blue\",\"magenta\",\"cyan\",\"gray\",\"yellow\",\"purple\",\"violet\",\"orange\",\"red\",\"maroon\"]\n",
    "#random.shuffle(colors)\n",
    "colors = ['#FFD700', '#FFA500', '#FF6347', '#9370DB','#FF1493','#00CED1', \n",
    "          '#66CDAA','#00FF7F', '#00FF00', '#32CD32']\n",
    "plt.barh(y_pos, height, color=colors)\n",
    "\n",
    "plt.xlim(3)\n",
    "plt.xticks(color=\"#424242\")\n",
    "plt.yticks(y_pos, bars, color=\"#424242\")\n",
    "plt.xlabel(\"Number of outlets\")\n",
    "\n",
    "for i, v in enumerate(height):\n",
    "    ax.text(v + 20, i, str(v), color='#424242')\n",
    "plt.title(\"Number of restaurants (by city)\")\n",
    "\n",
    "\n",
    "plt.show()\n"
   ]
  },
  {
   "cell_type": "markdown",
   "id": "b27bbe5d",
   "metadata": {},
   "source": [
    "As expected, metro cities have more number of restaurants than others with South India dominating the Top 4"
   ]
  },
  {
   "cell_type": "code",
   "execution_count": 60,
   "id": "d91a7eff",
   "metadata": {},
   "outputs": [
    {
     "data": {
      "text/plain": [
       "city\n",
       "Gurgaon         3.828525\n",
       "Secunderabad    3.822222\n",
       "Hyderabad       3.755839\n",
       "Kolkata         3.751947\n",
       "New Delhi       3.727347\n",
       "Mumbai          3.709298\n",
       "Bangalore       3.698175\n",
       "Noida           3.620307\n",
       "Chennai         3.597701\n",
       "Pune            3.509224\n",
       "Name: aggregate_rating, dtype: float64"
      ]
     },
     "execution_count": 60,
     "metadata": {},
     "output_type": "execute_result"
    }
   ],
   "source": [
    "rating_by_city = df.groupby(\"city\").mean(numeric_only=True)[\"aggregate_rating\"].sort_values(ascending=False)[:10]\n",
    "rating_by_city"
   ]
  },
  {
   "cell_type": "code",
   "execution_count": 61,
   "id": "7c675817",
   "metadata": {},
   "outputs": [],
   "source": [
    "# To check the number of outlets in each of the above establishment type\n",
    "\n",
    "#city_count = data.groupby(\"city\").count()[\"name\"].sort_values(ascending=False)\n",
    "#rating_by_city_map = city_count.index.isin(rating_by_city.index)\n",
    "#city_count = city_count[rating_by_city_map][rating_by_city.index]\n",
    "#city_count"
   ]
  },
  {
   "cell_type": "code",
   "execution_count": 62,
   "id": "41b83931",
   "metadata": {
    "scrolled": true
   },
   "outputs": [
    {
     "data": {
      "text/plain": [
       "city\n",
       "Hyderabad       955.549878\n",
       "Secunderabad    955.433333\n",
       "Mumbai          797.158259\n",
       "Bangalore       724.940365\n",
       "New Delhi       711.116197\n",
       "Kolkata         615.706833\n",
       "Gurgaon         613.180328\n",
       "Noida           515.570881\n",
       "Pune            475.715681\n",
       "Navi Mumbai     443.342995\n",
       "Name: votes, dtype: float64"
      ]
     },
     "execution_count": 62,
     "metadata": {},
     "output_type": "execute_result"
    }
   ],
   "source": [
    "df.groupby(\"city\").mean(numeric_only =True)[\"votes\"].sort_values(ascending=False)[:10]"
   ]
  },
  {
   "cell_type": "code",
   "execution_count": 63,
   "id": "afe0346a",
   "metadata": {},
   "outputs": [
    {
     "data": {
      "text/plain": [
       "city\n",
       "Mumbai         882.273492\n",
       "New Delhi      764.258216\n",
       "Gurgaon        678.491803\n",
       "Kolkata        667.558413\n",
       "Navi Mumbai    547.323671\n",
       "Thane          514.963855\n",
       "Noida          492.291188\n",
       "Bangalore      462.287939\n",
       "Hyderabad      377.274939\n",
       "Pune           333.320130\n",
       "Name: photo_count, dtype: float64"
      ]
     },
     "execution_count": 63,
     "metadata": {},
     "output_type": "execute_result"
    }
   ],
   "source": [
    "df.groupby(\"city\").mean(numeric_only=True)[\"photo_count\"].sort_values(ascending=False)[:10]"
   ]
  },
  {
   "cell_type": "markdown",
   "id": "12251d0c",
   "metadata": {},
   "source": [
    "Gurgaon has highest rated restaurants whereas Hyderabad has more number of critics. Mumbai and New Delhi dominates for most photo uploads per outlet"
   ]
  },
  {
   "cell_type": "code",
   "execution_count": 64,
   "id": "d1ea80a3",
   "metadata": {},
   "outputs": [
    {
     "name": "stdout",
     "output_type": "stream",
     "text": [
      "Total number of unique cuisines =  134\n"
     ]
    }
   ],
   "source": [
    "print(\"Total number of unique cuisines = \", cuisines.nunique())"
   ]
  },
  {
   "cell_type": "markdown",
   "id": "71aba28b",
   "metadata": {},
   "source": [
    "### Number of restaurants (by cuisine)"
   ]
  },
  {
   "cell_type": "code",
   "execution_count": 65,
   "id": "d8a960fa",
   "metadata": {},
   "outputs": [
    {
     "data": {
      "image/png": "[encoded data removed]",
      "text/plain": [
       "<Figure size 800x500 with 1 Axes>"
      ]
     },
     "metadata": {},
     "output_type": "display_data"
    }
   ],
   "source": [
    "c_count = cuisines.value_counts()[:5]\n",
    "\n",
    "fig = plt.figure(figsize=[8,5], frameon=False)\n",
    "ax = fig.gca()\n",
    "ax.spines[\"top\"].set_visible(False)\n",
    "ax.spines[\"right\"].set_visible(False)\n",
    "ax.spines[\"left\"].set_color(\"#424242\")\n",
    "ax.spines[\"bottom\"].set_color(\"#424242\")\n",
    "\n",
    "#colors = [\"green\",\"blue\",\"magenta\",\"cyan\",\"gray\",\"yellow\",\"purple\",\"violet\",\"orange\",\"red\",\"maroon\"]\n",
    "#random.shuffle(colors)\n",
    "colors = ['#007bff', '#00C851', '#ffbb33', '#ff8800', '#FF0000']\n",
    "plt.bar(c_count.index, c_count.values, color=colors)\n",
    "\n",
    "plt.xticks(range(0, 6), color=\"#424242\")\n",
    "plt.yticks(range(0, 30000, 5000), color=\"#424242\")\n",
    "plt.xlabel(\"Top 5 cuisines\")\n",
    "\n",
    "for i, v in enumerate(c_count):\n",
    "    ax.text(i-0.2, v+500, str(v), color='#424242')\n",
    "plt.title(\"Number of restaurants (by cuisine type)\")\n",
    "\n",
    "\n",
    "plt.show()"
   ]
  },
  {
   "cell_type": "markdown",
   "id": "1535bf81",
   "metadata": {},
   "source": [
    "North Indian food on top and Surprisingly, Chinese food comes second in the list of cuisines that Indians prefer, even more than fast food, desserts and South Indian food"
   ]
  },
  {
   "cell_type": "markdown",
   "id": "c22c81ee",
   "metadata": {},
   "source": [
    "### Highest rated cuisines"
   ]
  },
  {
   "cell_type": "code",
   "execution_count": 66,
   "id": "81e08805",
   "metadata": {},
   "outputs": [],
   "source": [
    "df[\"cuisines2\"] = df['cuisines'].apply(lambda x : x.split(\", \"))\n",
    "\n",
    "cuisines_list = cuisines.unique().tolist()\n",
    "zeros = np.zeros(shape=(len(cuisines_list),2))\n",
    "c_and_r = pd.DataFrame(zeros, index=cuisines_list, columns=[\"Sum\",\"Total\"])"
   ]
  },
  {
   "cell_type": "code",
   "execution_count": 67,
   "id": "26c05da9",
   "metadata": {},
   "outputs": [],
   "source": [
    "for i, x in df.iterrows():\n",
    "    for j in x[\"cuisines2\"]:\n",
    "        c_and_r.loc[j][\"Sum\"] += x[\"aggregate_rating\"]  \n",
    "        c_and_r.loc[j][\"Total\"] += 1"
   ]
  },
  {
   "cell_type": "code",
   "execution_count": 68,
   "id": "c163f477",
   "metadata": {},
   "outputs": [
    {
     "data": {
      "text/html": [
       "<div>\n",
       "<style scoped>\n",
       "    .dataframe tbody tr th:only-of-type {\n",
       "        vertical-align: middle;\n",
       "    }\n",
       "\n",
       "    .dataframe tbody tr th {\n",
       "        vertical-align: top;\n",
       "    }\n",
       "\n",
       "    .dataframe thead th {\n",
       "        text-align: right;\n",
       "    }\n",
       "</style>\n",
       "<table border=\"1\" class=\"dataframe\">\n",
       "  <thead>\n",
       "    <tr style=\"text-align: right;\">\n",
       "      <th></th>\n",
       "      <th>Sum</th>\n",
       "      <th>Total</th>\n",
       "      <th>Mean</th>\n",
       "    </tr>\n",
       "  </thead>\n",
       "  <tbody>\n",
       "    <tr>\n",
       "      <th>North Indian</th>\n",
       "      <td>60055.2</td>\n",
       "      <td>19226.0</td>\n",
       "      <td>3.123645</td>\n",
       "    </tr>\n",
       "    <tr>\n",
       "      <th>South Indian</th>\n",
       "      <td>18635.3</td>\n",
       "      <td>6381.0</td>\n",
       "      <td>2.920436</td>\n",
       "    </tr>\n",
       "    <tr>\n",
       "      <th>Mithai</th>\n",
       "      <td>8545.7</td>\n",
       "      <td>3144.0</td>\n",
       "      <td>2.718098</td>\n",
       "    </tr>\n",
       "    <tr>\n",
       "      <th>Street Food</th>\n",
       "      <td>10794.6</td>\n",
       "      <td>3715.0</td>\n",
       "      <td>2.905680</td>\n",
       "    </tr>\n",
       "    <tr>\n",
       "      <th>Desserts</th>\n",
       "      <td>22723.9</td>\n",
       "      <td>7064.0</td>\n",
       "      <td>3.216860</td>\n",
       "    </tr>\n",
       "    <tr>\n",
       "      <th>...</th>\n",
       "      <td>...</td>\n",
       "      <td>...</td>\n",
       "      <td>...</td>\n",
       "    </tr>\n",
       "    <tr>\n",
       "      <th>Swedish</th>\n",
       "      <td>3.6</td>\n",
       "      <td>1.0</td>\n",
       "      <td>3.600000</td>\n",
       "    </tr>\n",
       "    <tr>\n",
       "      <th>Cake</th>\n",
       "      <td>6.4</td>\n",
       "      <td>2.0</td>\n",
       "      <td>3.200000</td>\n",
       "    </tr>\n",
       "    <tr>\n",
       "      <th>Garhwali</th>\n",
       "      <td>3.3</td>\n",
       "      <td>2.0</td>\n",
       "      <td>1.650000</td>\n",
       "    </tr>\n",
       "    <tr>\n",
       "      <th>Vegan</th>\n",
       "      <td>3.5</td>\n",
       "      <td>1.0</td>\n",
       "      <td>3.500000</td>\n",
       "    </tr>\n",
       "    <tr>\n",
       "      <th>Afghani</th>\n",
       "      <td>3.4</td>\n",
       "      <td>3.0</td>\n",
       "      <td>1.133333</td>\n",
       "    </tr>\n",
       "  </tbody>\n",
       "</table>\n",
       "<p>134 rows × 3 columns</p>\n",
       "</div>"
      ],
      "text/plain": [
       "                  Sum    Total      Mean\n",
       "North Indian  60055.2  19226.0  3.123645\n",
       "South Indian  18635.3   6381.0  2.920436\n",
       "Mithai         8545.7   3144.0  2.718098\n",
       "Street Food   10794.6   3715.0  2.905680\n",
       "Desserts      22723.9   7064.0  3.216860\n",
       "...               ...      ...       ...\n",
       "Swedish           3.6      1.0  3.600000\n",
       "Cake              6.4      2.0  3.200000\n",
       "Garhwali          3.3      2.0  1.650000\n",
       "Vegan             3.5      1.0  3.500000\n",
       "Afghani           3.4      3.0  1.133333\n",
       "\n",
       "[134 rows x 3 columns]"
      ]
     },
     "execution_count": 68,
     "metadata": {},
     "output_type": "execute_result"
    }
   ],
   "source": [
    "c_and_r[\"Mean\"] = c_and_r[\"Sum\"] / c_and_r[\"Total\"]\n",
    "c_and_r"
   ]
  },
  {
   "cell_type": "markdown",
   "id": "c3a962f1",
   "metadata": {},
   "source": [
    "#### Highlights/Features of restaurants\n",
    "Unique highlights"
   ]
  },
  {
   "cell_type": "code",
   "execution_count": 69,
   "id": "ad55a68a",
   "metadata": {},
   "outputs": [
    {
     "name": "stdout",
     "output_type": "stream",
     "text": [
      "Total number of unique cuisines =  104\n"
     ]
    }
   ],
   "source": [
    "print(\"Total number of unique cuisines = \", hl.nunique())"
   ]
  },
  {
   "cell_type": "code",
   "execution_count": 70,
   "id": "a29c5831",
   "metadata": {},
   "outputs": [
    {
     "data": {
      "image/png": "[encoded data removed]",
      "text/plain": [
       "<Figure size 1000x600 with 1 Axes>"
      ]
     },
     "metadata": {},
     "output_type": "display_data"
    }
   ],
   "source": [
    "h_count = hl.value_counts()[:5]\n",
    "\n",
    "fig = plt.figure(figsize=[10,6], frameon=False)\n",
    "ax = fig.gca()\n",
    "ax.spines[\"top\"].set_visible(False)\n",
    "ax.spines[\"right\"].set_visible(False)\n",
    "ax.spines[\"left\"].set_color(\"#424242\")\n",
    "ax.spines[\"bottom\"].set_color(\"#424242\")\n",
    "\n",
    "#colors = [\"green\",\"blue\",\"magenta\",\"cyan\",\"gray\",\"yellow\",\"purple\",\"violet\",\"orange\",\"red\",\"maroon\"]\n",
    "#random.shuffle(colors)\n",
    "colors = ['#f94144', '#f3722c','#f8961e','#11174b', '#2a5599']\n",
    "plt.bar(h_count.index, h_count.values, color=colors)\n",
    "\n",
    "plt.xticks(range(0, 6), color=\"#424242\")\n",
    "plt.yticks(range(0, 70000, 10000), color=\"#424242\")\n",
    "plt.xlabel(\"Top 5 highlights\")\n",
    "\n",
    "for i, v in enumerate(h_count):\n",
    "    ax.text(i-0.2, v+500, str(v), color='#424242')\n",
    "plt.title(\"Number of restaurants (by highlights)\")\n",
    "\n",
    "\n",
    "plt.show()"
   ]
  },
  {
   "cell_type": "markdown",
   "id": "61af14ba",
   "metadata": {},
   "source": [
    "Top 5 highlights doesn't convey much information since they are very trivial to almost every restaurant. Let's look at uncommon highlights that matter more to the customer"
   ]
  },
  {
   "cell_type": "markdown",
   "id": "27bfc712",
   "metadata": {},
   "source": [
    "## Highlights wordcloud"
   ]
  },
  {
   "cell_type": "code",
   "execution_count": 71,
   "id": "0b76d847",
   "metadata": {
    "scrolled": true
   },
   "outputs": [
    {
     "data": {
      "image/png": "[encoded data removed]",
      "text/plain": [
       "<Figure size 800x800 with 1 Axes>"
      ]
     },
     "metadata": {},
     "output_type": "display_data"
    }
   ],
   "source": [
    "hl_str = \"\"\n",
    "for i in hl:\n",
    "    hl_str += str(i) + \" \"\n",
    "wordcloud = WordCloud(width =1080, height = 500, \n",
    "                background_color ='Black', \n",
    "                min_font_size = 10, max_words=30).generate(hl_str) \n",
    "                         \n",
    "plt.figure(figsize = (8, 8), facecolor = None) \n",
    "plt.imshow(wordcloud) \n",
    "plt.axis(\"off\") \n",
    "plt.tight_layout(pad = 0) \n",
    "  \n",
    "plt.show()"
   ]
  },
  {
   "cell_type": "markdown",
   "id": "a1a5a13f",
   "metadata": {},
   "source": [
    "Above we create wordcloud of top 30 highlights"
   ]
  },
  {
   "cell_type": "markdown",
   "id": "39dccdcd",
   "metadata": {},
   "source": [
    "### Relation between Average price for two and Rating"
   ]
  },
  {
   "cell_type": "code",
   "execution_count": 72,
   "id": "1b3bbd0d",
   "metadata": {},
   "outputs": [
    {
     "data": {
      "text/plain": [
       "0.25"
      ]
     },
     "execution_count": 72,
     "metadata": {},
     "output_type": "execute_result"
    }
   ],
   "source": [
    "np.round(df[[\"average_cost_for_two\",\"aggregate_rating\"]].corr()[\"average_cost_for_two\"][1],2)"
   ]
  },
  {
   "cell_type": "markdown",
   "id": "5b4caae8",
   "metadata": {},
   "source": [
    "A correlation can be seen between restaurant average cost and rating"
   ]
  },
  {
   "cell_type": "code",
   "execution_count": 73,
   "id": "18ba697c",
   "metadata": {},
   "outputs": [
    {
     "data": {
      "image/png": "[encoded data removed]",
      "text/plain": [
       "<Figure size 640x480 with 1 Axes>"
      ]
     },
     "metadata": {},
     "output_type": "display_data"
    }
   ],
   "source": [
    "plt.plot(\"average_cost_for_two\",\"aggregate_rating\", data=df, linestyle=\"none\", marker=\"o\")\n",
    "plt.xlim([0,6000])\n",
    "plt.title(\"Relationship between Average cost and Rating\")\n",
    "plt.xlabel(\"Average cost for two\")\n",
    "plt.ylabel(\"Ratings\")\n",
    "plt.show()"
   ]
  },
  {
   "cell_type": "markdown",
   "id": "723fba02",
   "metadata": {},
   "source": [
    "There is definetely a direct relation between the two. Let's take a smaller sample to draw a clearer scatter plot."
   ]
  },
  {
   "cell_type": "code",
   "execution_count": 74,
   "id": "d7474f03",
   "metadata": {},
   "outputs": [
    {
     "data": {
      "image/png": "[encoded data removed]",
      "text/plain": [
       "<Figure size 640x480 with 1 Axes>"
      ]
     },
     "metadata": {},
     "output_type": "display_data"
    }
   ],
   "source": [
    "plt.plot(\"average_cost_for_two\",\"aggregate_rating\", data=df.sample(1000), linestyle=\"none\", marker=\"o\")\n",
    "plt.xlim([0,3000])\n",
    "plt.show()"
   ]
  },
  {
   "cell_type": "markdown",
   "id": "e0c6409d",
   "metadata": {},
   "source": [
    "This relation concludes that that as average cost for two increases, there is a better chance that the restaurant will be rated highly. Let's look at price range for a better comparison."
   ]
  },
  {
   "cell_type": "markdown",
   "id": "50120c2a",
   "metadata": {},
   "source": [
    "## Relation between Price range and Rating"
   ]
  },
  {
   "cell_type": "code",
   "execution_count": 75,
   "id": "2793d171",
   "metadata": {},
   "outputs": [
    {
     "data": {
      "text/plain": [
       "0.25"
      ]
     },
     "execution_count": 75,
     "metadata": {},
     "output_type": "execute_result"
    }
   ],
   "source": [
    "np.round(df[[\"price_range\",\"aggregate_rating\"]].corr()[\"price_range\"][1],2)"
   ]
  },
  {
   "cell_type": "code",
   "execution_count": 76,
   "id": "8712b9e0",
   "metadata": {
    "scrolled": true
   },
   "outputs": [
    {
     "data": {
      "image/png": "[encoded data removed]",
      "text/plain": [
       "<Figure size 640x480 with 1 Axes>"
      ]
     },
     "metadata": {},
     "output_type": "display_data"
    }
   ],
   "source": [
    "sns.boxplot(x='price_range', y='aggregate_rating', data=df)\n",
    "plt.ylim(1)\n",
    "plt.title(\"Relationship between Price range and Ratings\")\n",
    "plt.show()"
   ]
  },
  {
   "cell_type": "markdown",
   "id": "54a90a87",
   "metadata": {},
   "source": [
    "Now, it is clear. The higher the price a restaurant charges, more services they provide and hence more chances of getting good ratings from their customers."
   ]
  },
  {
   "cell_type": "markdown",
   "id": "6872b467",
   "metadata": {},
   "source": [
    "# Conclusions\n",
    "After working on this data, we can conclude the following things:-\n",
    "\n",
    "1. Approx. 35% of restaurants in India are part of some chain\n",
    "2. Domino's Pizza, Cafe Coffee Day, KFC are the biggest fast food chains in the country with most number of outlets\n",
    "3. Barbecues and Grill food chains have highest average ratings than other type of restaurants\n",
    "4. Quick bites and casual dining type of establishment have most number of outlets\n",
    "5. Establishments with alcohol availability have highest average ratings, votes and photo uploads\n",
    "6. Banglore has most number of restaurants\n",
    "7. Gurgaon has highest rated restaurants (average 3.83) whereas Hyderabad has more number of critics (votes). \n",
    "8. Mumbai and New Delhi dominates for most photo uploads per outlet\n",
    "9. After North Indian, Chinese is the most prefered cuisine in India\n",
    "12. Most restaurants are rated between 3 and 4\n",
    "#### Now we have come to the end of this project"
   ]
  }
 ],
 "metadata": {
  "kernelspec": {
   "display_name": "Python 3 (ipykernel)",
   "language": "python",
   "name": "python3"
  },
  "language_info": {
   "codemirror_mode": {
    "name": "ipython",
    "version": 3
   },
   "file_extension": ".py",
   "mimetype": "text/x-python",
   "name": "python",
   "nbconvert_exporter": "python",
   "pygments_lexer": "ipython3",
   "version": "3.10.9"
  }
 },
 "nbformat": 4,
 "nbformat_minor": 5
}
